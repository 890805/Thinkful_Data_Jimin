{
 "cells": [
  {
   "cell_type": "markdown",
   "metadata": {},
   "source": [
    "## Assignments\n",
    "To complete the following drills, you'll need to use your Python skills to create some datasets, then use your new statistical knowledge to summarize them. Choose 6 distributions from the list of random distributions available in NumPy, called “Distributions”\n",
    "\n",
    "**For each distribution:**\n",
    "\n",
    "1. Generate a random variable with 100 datapoints using the code distributionvar = np.random.distributionname([arguments], 100), replacing distributionvar with an appropriate variable name and distributionname with the name of the distribution you’ve chosen, and filling in the empty space in the parentheses with your chosen values for the appropriate parameters. If you feel uncertain about how to do this, go back to the “Other Distributions” assignment for examples of code to use as a starting point.\n",
    "\n",
    "2. Graph the variable using a histogram.\n",
    "\n",
    "3. Compute the mean and standard deviation and plot them as vertical lines on the histogram.\n",
    "\n",
    "4. Evaluate whether the descriptive statistics provided useful information about the variable. Can you identify any common characteristics of the distributions that could be usefully described using the mean and/or standard deviation, versus the ones that could not?\n"
   ]
  },
  {
   "cell_type": "code",
   "execution_count": 1,
   "metadata": {},
   "outputs": [],
   "source": [
    "import numpy as np\n",
    "import pandas as pd\n",
    "import matplotlib.pyplot as plt\n",
    "%matplotlib inline"
   ]
  },
  {
   "cell_type": "code",
   "execution_count": 2,
   "metadata": {},
   "outputs": [],
   "source": [
    "# Generate 100 random variables\n",
    "normalVar = np.random.normal(0,1,100)"
   ]
  },
  {
   "cell_type": "code",
   "execution_count": 3,
   "metadata": {},
   "outputs": [
    {
     "name": "stdout",
     "output_type": "stream",
     "text": [
      "Mean: 0.12393623824210298\n",
      "Standard deviation: 1.0178433804641562\n"
     ]
    },
    {
     "data": {
      "image/png": "[encoded data removed]",
      "text/plain": [
       "<Figure size 432x288 with 1 Axes>"
      ]
     },
     "metadata": {
      "needs_background": "light"
     },
     "output_type": "display_data"
    }
   ],
   "source": [
    "# Compute the mean and standard deviation and plot them as vertical lines on the histogram.\n",
    "meanVar = normalVar.mean()\n",
    "sdVar= normalVar.std()\n",
    "\n",
    "print('Mean: %s' % meanVar)\n",
    "print('Standard deviation: %s' % sdVar)\n",
    "\n",
    "#Plot a histogram for nomalVar.\n",
    "plt.hist(normalVar, bins=20, color='#b2d3be', edgecolor='w' )\n",
    "\n",
    "# Add a vertical line at the mean.\n",
    "plt.axvline(meanVar, color='#5e6073', linestyle='solid', linewidth=2)\n",
    "\n",
    "# Add a vertical line at one standard deviation above the mean.\n",
    "plt.axvline(meanVar + sdVar, color='#5e6073', linestyle='dashed', linewidth=2)\n",
    "\n",
    "# Add a vertical line at one standard deviation below the mean.\n",
    "plt.axvline(meanVar - sdVar, color='#5e6073', linestyle='dashed', linewidth=2) \n",
    "\n",
    "# Print the histogram.\n",
    "plt.show()"
   ]
  },
  {
   "cell_type": "markdown",
   "metadata": {},
   "source": [
    "Mean and s.d are a little bit different with my expectation (0,1). But, like the assumption of Normal Distribution, the mean is placed where the data clusters, with approximately 50% of the data falling on either side, and approximately 67% of the data falling within one standard."
   ]
  },
  {
   "cell_type": "markdown",
   "metadata": {},
   "source": [
    "**Additionally:**\n",
    "\n",
    "1. Generate two normally-distributed variables, one with a mean of 5 and standard deviation of 0.5, and the other with a mean of 10 and standard deviation of 1.\n",
    "\n",
    "2. Add them together to create a third variable.\n",
    "\n",
    "3. Graph the third variable using a histogram.\n",
    "\n",
    "4. Compute the mean and standard deviation and plot them as vertical lines on the histogram.\n",
    "\n",
    "5. Evaluate the descriptive statistics against the data.\n",
    "\n"
   ]
  },
  {
   "cell_type": "code",
   "execution_count": 4,
   "metadata": {},
   "outputs": [],
   "source": [
    "# Generate random variables\n",
    "normalVar1 = np.random.normal(5,.5,100)\n",
    "normalVar2 = np.random.normal(10,1,100)\n",
    "normalVar3 = normalVar1 + normalVar2"
   ]
  },
  {
   "cell_type": "code",
   "execution_count": 5,
   "metadata": {},
   "outputs": [
    {
     "name": "stdout",
     "output_type": "stream",
     "text": [
      "Mean: 14.942845687975318\n",
      "Standard deviation: 1.270440871449309\n"
     ]
    },
    {
     "data": {
      "image/png": "[encoded data removed]",
      "text/plain": [
       "<Figure size 432x288 with 1 Axes>"
      ]
     },
     "metadata": {
      "needs_background": "light"
     },
     "output_type": "display_data"
    }
   ],
   "source": [
    "# Compute the mean and standard deviation and plot them as vertical lines on the histogram.\n",
    "meanVar = normalVar3.mean()\n",
    "sdVar= normalVar3.std()\n",
    "\n",
    "print('Mean: %s' % meanVar)\n",
    "print('Standard deviation: %s' % sdVar)\n",
    "\n",
    "#Plot a histogram for nomalVar3.\n",
    "plt.hist(normalVar3, bins=20, color='#b2d3be', edgecolor='w' )\n",
    "\n",
    "# Add a vertical line at the mean.\n",
    "plt.axvline(meanVar, color='#5e6073', linestyle='solid', linewidth=2)\n",
    "\n",
    "# Add a vertical line at one standard deviation above the mean.\n",
    "plt.axvline(meanVar + sdVar, color='#5e6073', linestyle='dashed', linewidth=2)\n",
    "\n",
    "# Add a vertical line at one standard deviation below the mean.\n",
    "plt.axvline(meanVar - sdVar, color='#5e6073', linestyle='dashed', linewidth=2) \n",
    "\n",
    "# Print the histogram.\n",
    "plt.show()\n"
   ]
  },
  {
   "cell_type": "markdown",
   "metadata": {},
   "source": [
    "Results are changed as random seed is changed. There is not any characteristic and coherence on the results. The distribution also skewed."
   ]
  },
  {
   "cell_type": "code",
   "execution_count": null,
   "metadata": {},
   "outputs": [],
   "source": []
  }
 ],
 "metadata": {
  "kernelspec": {
   "display_name": "Python 3",
   "language": "python",
   "name": "python3"
  },
  "language_info": {
   "codemirror_mode": {
    "name": "ipython",
    "version": 3
   },
   "file_extension": ".py",
   "mimetype": "text/x-python",
   "name": "python",
   "nbconvert_exporter": "python",
   "pygments_lexer": "ipython3",
   "version": "3.7.1"
  }
 },
 "nbformat": 4,
 "nbformat_minor": 2
}
