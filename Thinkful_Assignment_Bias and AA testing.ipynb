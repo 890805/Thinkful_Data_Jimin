{
 "cells": [
  {
   "cell_type": "markdown",
   "metadata": {},
   "source": [
    "## Assignments\n",
    "\n",
    "For each of the following scenarios, call out the potential biases in the proposed experiment. Do your best to try to discover not only the bias, but the initial design. There is plenty of room for interpretation here, so make sure to state what assumptions you're making.\n",
    "\n",
    "### 1\n",
    "\n",
    "**You're testing advertising emails for a bathing suit company and you test one version of the email in February and the other in May.**\n",
    "\n",
    "The result will be biased because of the season. People usually use their bathing suit in Summer, so they will prepare the suit right before summer. So, it will be better to get a random sample in the same season.\n",
    "\n",
    "\n",
    "### 2\n",
    "\n",
    "**You open a clinic to treat anxiety and find that the people who visit show a higher rate of anxiety than the general population.**\n",
    "\n",
    "Of course, in the clinic to treat anxiety, there will be a large population who are suffering from anxiety. It will be better to get a random sample from the general group.\n",
    "\n",
    "### 3\n",
    "\n",
    "**You launch a new ad billboard based campaign and see an increase in website visits in the first week.**\n",
    "\n",
    "Surely, in the first week, people are getting interested in the new campaign. it should be resampling after passing some period.\n",
    "\n",
    "\n",
    "### 4\n",
    "\n",
    "You launch a loyalty program but see no change in visits in the first week.\n"
   ]
  },
  {
   "cell_type": "code",
   "execution_count": null,
   "metadata": {},
   "outputs": [],
   "source": []
  }
 ],
 "metadata": {
  "kernelspec": {
   "display_name": "Python 3",
   "language": "python",
   "name": "python3"
  },
  "language_info": {
   "codemirror_mode": {
    "name": "ipython",
    "version": 3
   },
   "file_extension": ".py",
   "mimetype": "text/x-python",
   "name": "python",
   "nbconvert_exporter": "python",
   "pygments_lexer": "ipython3",
   "version": "3.7.1"
  }
 },
 "nbformat": 4,
 "nbformat_minor": 2
}
