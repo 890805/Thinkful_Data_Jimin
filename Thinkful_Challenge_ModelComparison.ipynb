{
 "cells": [
  {
   "cell_type": "markdown",
   "metadata": {},
   "source": [
    "# Challenge: model comparison\n",
    "\n",
    "You now know two kinds of regression and two kinds of classifier. So let's use that to compare models!\n",
    "\n",
    "Comparing models is something data scientists do all the time. There's very rarely just one model that would be possible to run for a given situation, so learning to choose the best one is very important.\n",
    "\n",
    "Here let's work on regression. Find a data set and build a KNN Regression and an OLS regression. Compare the two. How similar are they? Do they miss in different ways?\n",
    "\n",
    "Create a Jupyter notebook with your models. At the end in a markdown cell write a few paragraphs to describe the models' behaviors and why you favor one model or the other. Try to determine whether there is a situation where you would change your mind, or whether one is unambiguously better than the other. Lastly, try to note what it is about the data that causes the better model to outperform the weaker model. Submit a link to your notebook below.\n",
    "\n",
    "\n",
    "**KNN is a non-parametric model, whereas LR is a parametric model.**\n",
    "**KNN is slow in real time as it have to keep track of all training data and find the neighbor nodes, whereas LR can easily extract output from the tuned θ coefficients.**"
   ]
  },
  {
   "cell_type": "markdown",
   "metadata": {},
   "source": [
    "# OLS Regression"
   ]
  },
  {
   "cell_type": "code",
   "execution_count": 1,
   "metadata": {},
   "outputs": [],
   "source": [
    "import pandas as pd\n",
    "import numpy as np\n",
    "import matplotlib.pyplot as plt\n",
    "import scipy\n",
    "import seaborn as sns\n",
    "%matplotlib inline"
   ]
  },
  {
   "cell_type": "code",
   "execution_count": 2,
   "metadata": {},
   "outputs": [],
   "source": [
    "df = pd.read_csv(\"Ecommerce Customers.csv\")"
   ]
  },
  {
   "cell_type": "code",
   "execution_count": 92,
   "metadata": {},
   "outputs": [
    {
     "name": "stdout",
     "output_type": "stream",
     "text": [
      "<class 'pandas.core.frame.DataFrame'>\n",
      "RangeIndex: 500 entries, 0 to 499\n",
      "Data columns (total 8 columns):\n",
      "Email                   500 non-null object\n",
      "Address                 500 non-null object\n",
      "Avatar                  500 non-null object\n",
      "Avg. Session Length     500 non-null float64\n",
      "Time on App             500 non-null float64\n",
      "Time on Website         500 non-null float64\n",
      "Length of Membership    500 non-null float64\n",
      "Yearly Amount Spent     500 non-null float64\n",
      "dtypes: float64(5), object(3)\n",
      "memory usage: 31.3+ KB\n"
     ]
    }
   ],
   "source": [
    "df.info()"
   ]
  },
  {
   "cell_type": "code",
   "execution_count": 116,
   "metadata": {},
   "outputs": [],
   "source": [
    "features=df.dtypes[df.dtypes!='object'].index"
   ]
  },
  {
   "cell_type": "code",
   "execution_count": 125,
   "metadata": {},
   "outputs": [
    {
     "name": "stdout",
     "output_type": "stream",
     "text": [
      "The number of observations in training set is 400\n",
      "The number of observations in test set is 100\n"
     ]
    }
   ],
   "source": [
    "from sklearn.model_selection import train_test_split\n",
    "from sklearn.metrics import mean_absolute_error\n",
    "from statsmodels.tools.eval_measures import mse, rmse\n",
    "X = df[['Time on Website','Length of Membership']]\n",
    "y = df[\"Yearly Amount Spent\"]\n",
    "X_train, X_test, y_train, y_test = train_test_split(X, Y, test_size = 0.2, random_state = 123)\n",
    "\n",
    "print(\"The number of observations in training set is {}\".format(X_train.shape[0]))\n",
    "print(\"The number of observations in test set is {}\".format(X_test.shape[0]))\n",
    "\n",
    "alphas = [np.power(10.0,p) for p in np.arange(-10,40,1)]\n",
    "\n"
   ]
  },
  {
   "cell_type": "code",
   "execution_count": 126,
   "metadata": {},
   "outputs": [],
   "source": [
    "from sklearn.linear_model import LinearRegression"
   ]
  },
  {
   "cell_type": "code",
   "execution_count": 127,
   "metadata": {},
   "outputs": [
    {
     "data": {
      "image/png": "[encoded data removed]",
      "text/plain": [
       "<Figure size 432x288 with 1 Axes>"
      ]
     },
     "metadata": {},
     "output_type": "display_data"
    },
    {
     "name": "stdout",
     "output_type": "stream",
     "text": [
      "R-squared of the model in training set is: 0.6410108327037456\n",
      "-----Test set statistics-----\n",
      "R-squared of the model in test set is: 0.7083995771379743\n",
      "Mean absolute error of the prediction is: 36.93255462393793\n",
      "Mean squared error of the prediction is: 2004.219587362711\n",
      "Root mean squared error of the prediction is: 44.76851111398179\n",
      "Mean absolute percentage error of the prediction is: 7.797740125202026\n"
     ]
    }
   ],
   "source": [
    "lrm = LinearRegression()\n",
    "\n",
    "lrm.fit(X_train, y_train)\n",
    "\n",
    "# We are making predictions here\n",
    "y_preds_train = lrm.predict(X_train)\n",
    "y_preds_test = lrm.predict(X_test)\n",
    "\n",
    "\n",
    "plt.scatter(y_test, y_preds_test)\n",
    "plt.plot(y_test, y_test, color=\"red\")\n",
    "plt.xlabel(\"true values\")\n",
    "plt.ylabel(\"predicted values\")\n",
    "plt.title(\"Charges: true and predicted values\")\n",
    "plt.show()\n",
    "\n",
    "print(\"R-squared of the model in training set is: {}\".format(lrm.score(X_train, y_train)))\n",
    "print(\"-----Test set statistics-----\")\n",
    "print(\"R-squared of the model in test set is: {}\".format(lrm.score(X_test, y_test)))\n",
    "print(\"Mean absolute error of the prediction is: {}\".format(mean_absolute_error(y_test, y_preds_test)))\n",
    "print(\"Mean squared error of the prediction is: {}\".format(mse(y_test, y_preds_test)))\n",
    "print(\"Root mean squared error of the prediction is: {}\".format(rmse(y_test, y_preds_test)))\n",
    "print(\"Mean absolute percentage error of the prediction is: {}\".format(np.mean(np.abs((y_test - y_preds_test) / y_test)) * 100))"
   ]
  },
  {
   "cell_type": "code",
   "execution_count": 141,
   "metadata": {},
   "outputs": [],
   "source": [
    "from sklearn import neighbors\n",
    "from math import sqrt\n",
    "from sklearn.metrics import mean_squared_error "
   ]
  },
  {
   "cell_type": "code",
   "execution_count": 148,
   "metadata": {},
   "outputs": [
    {
     "name": "stdout",
     "output_type": "stream",
     "text": [
      "K = 1, R-squared of the model in training set is: 1.0\n",
      "K = 1, Root mean squared error of the prediction is: 64.68095200941791\n",
      "K = 2, R-squared of the model in training set is: 0.8296118550612738\n",
      "K = 2, Root mean squared error of the prediction is: 61.89010817696325\n",
      "K = 3, R-squared of the model in training set is: 0.7543191618970067\n",
      "K = 3, Root mean squared error of the prediction is: 56.570323017139195\n",
      "K = 4, R-squared of the model in training set is: 0.715582671333205\n",
      "K = 4, Root mean squared error of the prediction is: 54.52816134328275\n",
      "K = 5, R-squared of the model in training set is: 0.6855511089785948\n",
      "K = 5, Root mean squared error of the prediction is: 52.483618616504906\n",
      "K = 6, R-squared of the model in training set is: 0.6745429050512721\n",
      "K = 6, Root mean squared error of the prediction is: 51.491646942572245\n",
      "K = 7, R-squared of the model in training set is: 0.6480292788493915\n",
      "K = 7, Root mean squared error of the prediction is: 50.771424570836096\n",
      "K = 8, R-squared of the model in training set is: 0.6389268394357525\n",
      "K = 8, Root mean squared error of the prediction is: 50.13550583166699\n",
      "K = 9, R-squared of the model in training set is: 0.6382917101356207\n",
      "K = 9, Root mean squared error of the prediction is: 49.267363109456895\n",
      "K = 10, R-squared of the model in training set is: 0.6304433580550457\n",
      "K = 10, Root mean squared error of the prediction is: 49.3925243941076\n",
      "K = 11, R-squared of the model in training set is: 0.628576749789034\n",
      "K = 11, Root mean squared error of the prediction is: 48.631273971130504\n",
      "K = 12, R-squared of the model in training set is: 0.6264540304543573\n",
      "K = 12, Root mean squared error of the prediction is: 48.45288628639866\n",
      "K = 13, R-squared of the model in training set is: 0.6209527269710784\n",
      "K = 13, Root mean squared error of the prediction is: 48.151295342317916\n",
      "K = 14, R-squared of the model in training set is: 0.6234846030581538\n",
      "K = 14, Root mean squared error of the prediction is: 48.278727600632145\n",
      "K = 15, R-squared of the model in training set is: 0.6216246344322707\n",
      "K = 15, Root mean squared error of the prediction is: 47.75896768156017\n",
      "K = 16, R-squared of the model in training set is: 0.6186221078699886\n",
      "K = 16, Root mean squared error of the prediction is: 48.03207978005134\n",
      "K = 17, R-squared of the model in training set is: 0.6171233391947613\n",
      "K = 17, Root mean squared error of the prediction is: 48.1966849484917\n",
      "K = 18, R-squared of the model in training set is: 0.614599866103628\n",
      "K = 18, Root mean squared error of the prediction is: 48.29191876236658\n",
      "K = 19, R-squared of the model in training set is: 0.6107098672625086\n",
      "K = 19, Root mean squared error of the prediction is: 48.486187042017825\n",
      "K = 20, R-squared of the model in training set is: 0.6070722176619363\n",
      "K = 20, Root mean squared error of the prediction is: 48.41435621161121\n"
     ]
    }
   ],
   "source": [
    "rmse_val = [] #to store rmse values for different k\n",
    "for K in range(20):\n",
    "    K = K+1\n",
    "    model = neighbors.KNeighborsRegressor(n_neighbors = K)\n",
    "    model.fit(X_train, y_train)  #fit the model\n",
    "    \n",
    "    y_preds_train = model.predict(X_train)\n",
    "    y_preds_test = model.predict(X_test)\n",
    "    print(\"K = {}, R-squared of the model in training set is: {}\".format(K, model.score(X_train, y_train)))\n",
    "    print(\"K = {}, Root mean squared error of the prediction is: {}\".format(K, rmse(y_test, y_preds_test)))"
   ]
  },
  {
   "cell_type": "markdown",
   "metadata": {},
   "source": [
    "OLS Regression is better regarding the RMSE value."
   ]
  },
  {
   "cell_type": "code",
   "execution_count": null,
   "metadata": {},
   "outputs": [],
   "source": []
  }
 ],
 "metadata": {
  "kernelspec": {
   "display_name": "Python 3",
   "language": "python",
   "name": "python3"
  },
  "language_info": {
   "codemirror_mode": {
    "name": "ipython",
    "version": 3
   },
   "file_extension": ".py",
   "mimetype": "text/x-python",
   "name": "python",
   "nbconvert_exporter": "python",
   "pygments_lexer": "ipython3",
   "version": "3.7.1"
  }
 },
 "nbformat": 4,
 "nbformat_minor": 2
}
