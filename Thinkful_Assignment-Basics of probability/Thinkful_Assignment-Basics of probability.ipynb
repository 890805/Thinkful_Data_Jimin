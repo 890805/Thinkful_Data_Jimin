{
 "cells": [
  {
   "cell_type": "markdown",
   "metadata": {},
   "source": [
    "## Drill Set 1"
   ]
  },
  {
   "cell_type": "markdown",
   "metadata": {},
   "source": [
    "**1. Calculate the probability of flipping a balanced coin four times and getting each pattern: HTTH, HHHH and TTHH.**"
   ]
  },
  {
   "cell_type": "code",
   "execution_count": 1,
   "metadata": {},
   "outputs": [],
   "source": [
    "probFillp = .5 * .5 * .5 * .5"
   ]
  },
  {
   "cell_type": "code",
   "execution_count": 3,
   "metadata": {},
   "outputs": [
    {
     "data": {
      "text/plain": [
       "0.0625"
      ]
     },
     "execution_count": 3,
     "metadata": {},
     "output_type": "execute_result"
    }
   ],
   "source": [
    "probFillp"
   ]
  },
  {
   "cell_type": "markdown",
   "metadata": {},
   "source": [
    "All three cases have same probability because the flipping a balanced coin is independance events."
   ]
  },
  {
   "cell_type": "markdown",
   "metadata": {},
   "source": [
    "**2. If a list of people has 24 women and 21 men, then the probability of choosing a man from the list is 21/45. What is the probability of not choosing a man?**"
   ]
  },
  {
   "cell_type": "markdown",
   "metadata": {},
   "source": [
    "Answer: 24/45"
   ]
  },
  {
   "cell_type": "markdown",
   "metadata": {},
   "source": [
    "**3. The probability that Bernice will travel by plane sometime in the next year is 10%. The probability of a plane crash at any time is .005%. What is the probability that Bernice will be in a plane crash sometime in the next year?**"
   ]
  },
  {
   "cell_type": "markdown",
   "metadata": {},
   "source": [
    "Answer: These are independent event, so the probabilty that Bernice will be in a plane crash sometime in the next year is 0.1 * 0.00005 = 0.000005 (0.0005 %)"
   ]
  },
  {
   "cell_type": "markdown",
   "metadata": {},
   "source": [
    "**4. A data scientist wants to study the behavior of users on the company website. Each time a user clicks on a link on the website, there is a 5% chance that the user will be asked to complete a short survey about their behavior on the website. The data scientist uses the survey data to conclude that, on average, users spend 15 minutes surfing the company website before moving on to other things. What is wrong with this conclusion?**"
   ]
  },
  {
   "cell_type": "markdown",
   "metadata": {},
   "source": [
    "Answer: People who surf longer might get more survey than others who surf shorter than them, so there will be bias."
   ]
  },
  {
   "cell_type": "markdown",
   "metadata": {},
   "source": [
    "## Drill Set 2"
   ]
  },
  {
   "cell_type": "markdown",
   "metadata": {},
   "source": [
    "### Question\n",
    "A diagnostic test has a 98% probability of giving a positive result when applied to a person suffering from Thripshaw's Disease, and 10% probability of giving a (false) positive when applied to a non-sufferer. It is estimated that 0.5 % of the population are sufferers. Suppose that the test is now administered to a person whose disease status is unknown. Calculate the probability that the test will:\n",
    "\n",
    "**1. Be positive**\n",
    "\n",
    "**2. Correctly diagnose a sufferer of Thripshaw's**\n",
    "\n",
    "**3. Correctly identify a non-sufferer of Thripshaw's**\n",
    "\n",
    "**4. Misclassify the person**\n",
    "\n",
    "Were your intuitions on the mark, or way off? If your statistical intuition is leading you astray, you aren't alone. According to Nobel-prize winning Daniel Kahneman, humans simply are not good intuitive statisticians. That fact has two strong implications for you as you prepare for a career in data science:\n",
    "\n",
    "1. Just because your statistical intuition is wrong does not mean you're a bad statistician. We're all in this boat. Don't give up on yourself. And,\n",
    "2. Just because you easily intuit the answer to a statistical question does not mean you're right. Don't trust your intuition. Check your work.\n"
   ]
  },
  {
   "cell_type": "markdown",
   "metadata": {},
   "source": [
    "T1: suffering from Thripshaw's Disease\n",
    "\n",
    "T2: no suffering from Thripshaw's Disease\n",
    "\n",
    "D : positive result\n",
    "\n",
    "\n",
    "**Likelyhood**\n",
    "\n",
    "P(D|T1), the probabilty of suffering person get positive result = 0.98 (98%)\n",
    "\n",
    "P(D|T2), the probabilty of no suffering person get positive result = 0.1 (10%)\n",
    "\n",
    "**Prior Probabilties**\n",
    "\n",
    "P(T1), the probabilty of suffering from Thripshaw's Disease = 0.005 (5%)\n",
    "\n",
    "P(T2), the probabilty of no suffering from Thripshaw's Disease = 0.995\n",
    "\n",
    "**1. Be positive**\n",
    "    \n",
    "    Answer: P(D|T1) * P(T1) + P(D|T2) * P(T2) = 0.98 * 0.005 + 0.1 * 0.995 = 0.1044\n",
    "\n",
    "**2. Correctly diagnose a sufferer of Thripshaw's**\n",
    "\n",
    "    Answer: P(D|T1) = 0.98\n",
    "\n",
    "**3. Correctly identify a non-sufferer of Thripshaw's**\n",
    "\n",
    "    Answer: 1 - P(D|T2) = 0.9\n",
    "  \n",
    "**4. Misclassify the person**\n",
    "    \n",
    "    Answer:\n",
    "    1 - Correct result\n",
    "    = 1 - (P(D|T1) * P(T1) + (1 - P(D|T2) * P(T2))\n",
    "    = 1 - (0.98 * 0.005 + (1 - 0.1) * 0.995 ) = 0.0996\n"
   ]
  },
  {
   "cell_type": "code",
   "execution_count": null,
   "metadata": {},
   "outputs": [],
   "source": []
  }
 ],
 "metadata": {
  "kernelspec": {
   "display_name": "Python 3",
   "language": "python",
   "name": "python3"
  },
  "language_info": {
   "codemirror_mode": {
    "name": "ipython",
    "version": 3
   },
   "file_extension": ".py",
   "mimetype": "text/x-python",
   "name": "python",
   "nbconvert_exporter": "python",
   "pygments_lexer": "ipython3",
   "version": "3.7.1"
  }
 },
 "nbformat": 4,
 "nbformat_minor": 2
}
