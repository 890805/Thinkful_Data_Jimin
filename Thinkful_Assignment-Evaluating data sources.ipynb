{
 "cells": [
  {
   "cell_type": "markdown",
   "metadata": {},
   "source": [
    "## Drill\n",
    "\n",
    "In each of the scenarios, find possible shortcomings of the theoretical or actual data sources to answer the given question. What could be done to either adjust the analysis or reframe the question so that you can answer it accurately?\n",
    "\n",
    "**Theoretical Data Source: Amsterdam availability data scraped from AirBnB on December 24th.**\n",
    "\n",
    "**Question: What are the popular neighborhoods in Amsterdam?**\n",
    "\n",
    "Answer: December 24th is Christmas Eve and it is special occasion that can affect to people's behavior pattern. Furthermore, we cannot conclude the popular neighborhoods with the data of just a certain day. Therefore we should choose other time period which is more common and ordinary.\n",
    "\n",
    "**Theoretical Data Source: Mental health services use on September 12, 2001 in San Francisco, CA and New York City, NY.**\n",
    "\n",
    "**Question: How do patterns of mental health service use vary between cities?**\n",
    "\n",
    "Answer: On September 11, 2001, New York City had the terror attack so the states of mental health of citizens would be be very  different in the two cities. We can also reframe the question into how different the patterns of mental health based on the distance from terror site. \n",
    "\n",
    "**Actual Data Source: Armenian Pub Survey.**\n",
    "\n",
    "**Question: What are the most common reasons Armenians visit local pubs?**\n",
    "\n",
    "Answer: Age group of this survey is bias to young age (16-20). And 70 percent of respondants are university students. so we can fix the question into \"What are the most common reasons Armenians university students visit local pubs?\n",
    "\"\n",
    "\n"
   ]
  },
  {
   "cell_type": "code",
   "execution_count": null,
   "metadata": {},
   "outputs": [],
   "source": []
  }
 ],
 "metadata": {
  "kernelspec": {
   "display_name": "Python 3",
   "language": "python",
   "name": "python3"
  },
  "language_info": {
   "codemirror_mode": {
    "name": "ipython",
    "version": 3
   },
   "file_extension": ".py",
   "mimetype": "text/x-python",
   "name": "python",
   "nbconvert_exporter": "python",
   "pygments_lexer": "ipython3",
   "version": "3.7.1"
  }
 },
 "nbformat": 4,
 "nbformat_minor": 2
}
