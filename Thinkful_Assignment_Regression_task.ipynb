{
 "cells": [
  {
   "cell_type": "markdown",
   "metadata": {},
   "source": [
    "## Assignment\n",
    "\n",
    "To close out this checkpoint, answer the following questions.  Once you're done, you can compare your answers to the ones found in [this notebook, which you can download](https://tf-assets-prod.s3.amazonaws.com/tf-curric/data-science/machine-learning-regression/solutions/1.solution_what_is_regression.ipynb).\n",
    "\n",
    "1. Let's assume that you have World Bank data on financial, economic and social indicators for several countries. You want to measure the factors that affect the level of development in these countries. To this end, you decide to use per capita income as a proxy for the development level, which is defined as the national income divided by the population. You want to use some features in your dataset to predict per capita income. Is this task a classification or a regression task? Why?\n",
    "\n",
    "__Answer: variables are coutinuous__\n",
    "\n",
    "2. Which of the following arguments are false and why?\n",
    "  * OLS is a special type of linear regression models __Answer: NO, OLS is optimization algorithm__\n",
    "  * Regression models become useless if they don’t meet the assumptions of linear regression. __Answer: NO, we can take to use linear regression even when your model doesn’t meet these conditions, and we also fix your model if it doesn’t meet some of the conditions.__\n",
    "  * Estimation and prediction are the same thing in the context of linear regression models. __Answer: NO, Estimation: the process to find out parameters in regreesion models. Prediction: determine outcome values for the observations that have not been previously observed__\n",
    "  * Linear regression is only one kind of regression model. Regression problems can also be solved with other kind of models like Support Vector Machines or Random Forests. __Answer: YES__\n",
    "3. Assume that your project manager wants you to discover which free services your company offers make your customers buy more of your paid services. Formulate this task as a regression problem and write down the potential outcome and features that you’d like to work on.\n",
    "\n",
    "$$ Customer's \\enspace totall \\enspace expenditure = \\alpha + \\beta X \\enspace free \\enspace services $$"
   ]
  },
  {
   "cell_type": "code",
   "execution_count": null,
   "metadata": {},
   "outputs": [],
   "source": []
  }
 ],
 "metadata": {
  "kernelspec": {
   "display_name": "Python 3",
   "language": "python",
   "name": "python3"
  },
  "language_info": {
   "codemirror_mode": {
    "name": "ipython",
    "version": 3
   },
   "file_extension": ".py",
   "mimetype": "text/x-python",
   "name": "python",
   "nbconvert_exporter": "python",
   "pygments_lexer": "ipython3",
   "version": "3.7.1"
  }
 },
 "nbformat": 4,
 "nbformat_minor": 2
}
