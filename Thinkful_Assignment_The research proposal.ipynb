{
 "cells": [
  {
   "cell_type": "markdown",
   "metadata": {},
   "source": [
    "## The Problem\n",
    "\n",
    "How to increase the company's business with regard to bathing suit? Since the company changed their advertisement in a bathing suit last year, the sales were slightly decreasing. Therefore, the company decides to improve the ad.\n",
    "\n",
    "## The Potential Solution\n",
    "\n",
    "The company decides to include the picture that models are wearing the bathing suit on there advertising emails.\n",
    "\n",
    "## The method of testing the solution\n",
    "\n",
    "1. Randomly select the subscribers of advertisement and then they split into two groups. The first group will receive the old version of the email and the other group will receive the new version of the advertisement. \n",
    "\n",
    "2. Calculate the rate of purchase of the subscribers.\n",
    "\n",
    "3. Watch the purchase at least in a month during May.\n",
    "\n",
    "4. Compare between two groups. If the first group's purchase rate is significantly higher than the other, conclude that including the picture the model is wearing the suit is an effective way to increase the company's sales."
   ]
  },
  {
   "cell_type": "code",
   "execution_count": null,
   "metadata": {},
   "outputs": [],
   "source": []
  }
 ],
 "metadata": {
  "kernelspec": {
   "display_name": "Python 3",
   "language": "python",
   "name": "python3"
  },
  "language_info": {
   "codemirror_mode": {
    "name": "ipython",
    "version": 3
   },
   "file_extension": ".py",
   "mimetype": "text/x-python",
   "name": "python",
   "nbconvert_exporter": "python",
   "pygments_lexer": "ipython3",
   "version": "3.7.1"
  }
 },
 "nbformat": 4,
 "nbformat_minor": 2
}
