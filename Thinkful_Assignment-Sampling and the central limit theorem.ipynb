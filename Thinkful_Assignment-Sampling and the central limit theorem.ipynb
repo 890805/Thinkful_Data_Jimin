{
 "cells": [
  {
   "cell_type": "markdown",
   "metadata": {},
   "source": [
    "## Assignments\n",
    "\n",
    "Now that you have some code to create your own populations, sample them, and compare the samples to the populations, it's time to experiment. Using your own Jupyter notebook, or a copy of the notebook above, reproduce the pop1 and pop2 populations and samples using numpy's binomial function. Specifically, create two binomially distributed populations with n equal to 10 and size equal to 10000. The p-value of pop1 should be 0.2 and the p-value of pop2 should be 0.5. Using a sample size of 100, calculate the means and standard deviations of your samples.\n",
    "\n",
    "For each of the following tasks, first write what you expect will happen, then code the changes and observe what does happen. Discuss the results with your mentor.\n",
    "\n",
    "**1. Increase the size of your samples from 100 to 1000, then calculate the means and standard deviations for your new samples and create histograms for each. Repeat this again, decreasing the size of your samples to 20. What values change, and what remain the same?**\n",
    "\n",
    "Answer: All values are slightly changed but it can be fine if we see them as same values.In case of the size of samples to 20, statistics looks more different with our expectaion than others (100, 1000)."
   ]
  },
  {
   "cell_type": "code",
   "execution_count": 1,
   "metadata": {},
   "outputs": [],
   "source": [
    "import numpy as np\n",
    "import pandas as pd\n",
    "import scipy\n",
    "import matplotlib.pyplot as plt\n",
    "import \n",
    "%matplotlib inline"
   ]
  },
  {
   "cell_type": "code",
   "execution_count": null,
   "metadata": {},
   "outputs": [],
   "source": [
    "pop1 = np.random.binomial(10, 0.2, 10000)\n",
    "pop2 = np.random.binomial(10,0.5, 10000) "
   ]
  },
  {
   "cell_type": "code",
   "execution_count": null,
   "metadata": {},
   "outputs": [],
   "source": [
    "sample1_100 = np.random.choice(pop1, 100, replace=True)\n",
    "sample2_100 = np.random.choice(pop2, 100, replace=True)\n",
    "\n",
    "print(\"Mean of Sample 1 : %s\" % sample1_100.mean())\n",
    "print(\"Mean of Sample 2 : %s\" % sample2_100.mean())\n",
    "print(\"Standard Deviation of Sample 1 : %s\" % sample1_100.std())\n",
    "print(\"Standard Deviation of Sample 2 : %s\" % sample2_100.std())\n",
    "\n",
    "# Compute the difference between the two sample means.\n",
    "diff=sample2_100.mean( ) - sample1_100.mean()\n",
    "print(\"Difference : %s\" % diff)\n",
    "\n",
    "plt.hist(sample1_100, alpha=0.5, label='sample 1') \n",
    "plt.hist(sample2_100, alpha=0.5, label='sample 2') \n",
    "plt.legend(loc='upper right') \n",
    "plt.show()"
   ]
  },
  {
   "cell_type": "code",
   "execution_count": null,
   "metadata": {},
   "outputs": [],
   "source": [
    "sample1_1000 = np.random.choice(pop1, 1000, replace=True)\n",
    "sample2_1000 = np.random.choice(pop2, 1000, replace=True)\n",
    "\n",
    "print(\"Mean of Sample 1 : %s\" % sample1_1000.mean())\n",
    "print(\"Mean of Sample 2 : %s\" % sample2_1000.mean())\n",
    "print(\"Standard Deviation of Sample 1 : %s\" % sample1_1000.std())\n",
    "print(\"Standard Deviation of Sample 2 : %s\" % sample2_1000.std())\n",
    "\n",
    "# Compute the difference between the two sample means.\n",
    "diff=sample2_1000.mean( ) - sample1_1000.mean()\n",
    "print(\"Difference : %s\" % diff)\n",
    "\n",
    "plt.hist(sample1_1000, alpha=0.5, label='sample 1') \n",
    "plt.hist(sample2_1000, alpha=0.5, label='sample 2') \n",
    "plt.legend(loc='upper right') \n",
    "plt.show()"
   ]
  },
  {
   "cell_type": "code",
   "execution_count": null,
   "metadata": {},
   "outputs": [],
   "source": [
    "sample1_20 = np.random.choice(pop1, 20, replace=True)\n",
    "sample2_20 = np.random.choice(pop2, 20, replace=True)\n",
    "\n",
    "print(\"Mean of Sample 1 : %s\" % sample1_20.mean())\n",
    "print(\"Mean of Sample 2 : %s\" % sample2_20.mean())\n",
    "print(\"Standard Deviation of Sample 1 : %s\" % sample1_20.std())\n",
    "print(\"Standard Deviation of Sample 2 : %s\" % sample2_20.std())\n",
    "\n",
    "# Compute the difference between the two sample means.\n",
    "diff=sample2_20.mean( ) - sample1_20.mean()\n",
    "print(\"Difference : %s\" % diff)\n",
    "\n",
    "plt.hist(sample1_20, alpha=0.5, label='sample 1') \n",
    "plt.hist(sample2_20, alpha=0.5, label='sample 2') \n",
    "plt.legend(loc='upper right') \n",
    "plt.show()"
   ]
  },
  {
   "cell_type": "markdown",
   "metadata": {},
   "source": [
    "**2. Change the probability value (p in the NumPy documentation) for pop1 to 0.3, then take new samples and compute the t-statistic and p-value. Then change the probability value p for group 1 to 0.4, and do it again. What changes, and why?**\n",
    "\n",
    "Answer: t-statistics decreased and the p-value is increased, That means the two samples get more similar when p = 0.4."
   ]
  },
  {
   "cell_type": "code",
   "execution_count": null,
   "metadata": {},
   "outputs": [],
   "source": [
    "pop1 = np.random.binomial(10, 0.3, 10000)\n",
    "pop2 = np.random.binomial(10,0.5, 10000)"
   ]
  },
  {
   "cell_type": "code",
   "execution_count": 2,
   "metadata": {},
   "outputs": [
    {
     "ename": "NameError",
     "evalue": "name 'np' is not defined",
     "output_type": "error",
     "traceback": [
      "\u001b[0;31m---------------------------------------------------------------------------\u001b[0m",
      "\u001b[0;31mNameError\u001b[0m                                 Traceback (most recent call last)",
      "\u001b[0;32m<ipython-input-2-3553980df7a8>\u001b[0m in \u001b[0;36m<module>\u001b[0;34m\u001b[0m\n\u001b[0;32m----> 1\u001b[0;31m \u001b[0msample1_100\u001b[0m \u001b[0;34m=\u001b[0m \u001b[0mnp\u001b[0m\u001b[0;34m.\u001b[0m\u001b[0mrandom\u001b[0m\u001b[0;34m.\u001b[0m\u001b[0mchoice\u001b[0m\u001b[0;34m(\u001b[0m\u001b[0mpop1\u001b[0m\u001b[0;34m,\u001b[0m \u001b[0;36m100\u001b[0m\u001b[0;34m,\u001b[0m \u001b[0mreplace\u001b[0m\u001b[0;34m=\u001b[0m\u001b[0;32mTrue\u001b[0m\u001b[0;34m)\u001b[0m\u001b[0;34m\u001b[0m\u001b[0;34m\u001b[0m\u001b[0m\n\u001b[0m\u001b[1;32m      2\u001b[0m \u001b[0msample2_100\u001b[0m \u001b[0;34m=\u001b[0m \u001b[0mnp\u001b[0m\u001b[0;34m.\u001b[0m\u001b[0mrandom\u001b[0m\u001b[0;34m.\u001b[0m\u001b[0mchoice\u001b[0m\u001b[0;34m(\u001b[0m\u001b[0mpop2\u001b[0m\u001b[0;34m,\u001b[0m \u001b[0;36m100\u001b[0m\u001b[0;34m,\u001b[0m \u001b[0mreplace\u001b[0m\u001b[0;34m=\u001b[0m\u001b[0;32mTrue\u001b[0m\u001b[0;34m)\u001b[0m\u001b[0;34m\u001b[0m\u001b[0;34m\u001b[0m\u001b[0m\n\u001b[1;32m      3\u001b[0m \u001b[0;34m\u001b[0m\u001b[0m\n\u001b[1;32m      4\u001b[0m \u001b[0mprint\u001b[0m\u001b[0;34m(\u001b[0m\u001b[0;34m\"Mean of Sample 1 : %s\"\u001b[0m \u001b[0;34m%\u001b[0m \u001b[0msample1_100\u001b[0m\u001b[0;34m.\u001b[0m\u001b[0mmean\u001b[0m\u001b[0;34m(\u001b[0m\u001b[0;34m)\u001b[0m\u001b[0;34m)\u001b[0m\u001b[0;34m\u001b[0m\u001b[0;34m\u001b[0m\u001b[0m\n\u001b[1;32m      5\u001b[0m \u001b[0mprint\u001b[0m\u001b[0;34m(\u001b[0m\u001b[0;34m\"Mean of Sample 2 : %s\"\u001b[0m \u001b[0;34m%\u001b[0m \u001b[0msample2_100\u001b[0m\u001b[0;34m.\u001b[0m\u001b[0mmean\u001b[0m\u001b[0;34m(\u001b[0m\u001b[0;34m)\u001b[0m\u001b[0;34m)\u001b[0m\u001b[0;34m\u001b[0m\u001b[0;34m\u001b[0m\u001b[0m\n",
      "\u001b[0;31mNameError\u001b[0m: name 'np' is not defined"
     ]
    }
   ],
   "source": [
    "sample1_100 = np.random.choice(pop1, 100, replace=True)\n",
    "sample2_100 = np.random.choice(pop2, 100, replace=True)\n",
    "\n",
    "print(\"Mean of Sample 1 : %s\" % sample1_100.mean())\n",
    "print(\"Mean of Sample 2 : %s\" % sample2_100.mean())\n",
    "print(\"Standard Deviation of Sample 1 : %s\" % sample1_100.std())\n",
    "print(\"Standard Deviation of Sample 2 : %s\" % sample2_100.std())\n",
    "\n",
    "# Compute the difference between the two sample means.\n",
    "diff=sample2_100.mean( ) - sample1_100.mean()\n",
    "print(\"Difference : %s\" % diff)\n",
    "\n",
    "from scipy.stats import ttest_ind\n",
    "print(ttest_ind(sample2_100, sample1_100, equal_var=False))\n",
    "\n",
    "plt.hist(sample1_100, alpha=0.5, label='sample 1') \n",
    "plt.hist(sample2_100, alpha=0.5, label='sample 2') \n",
    "plt.legend(loc='upper right') \n",
    "plt.show()"
   ]
  },
  {
   "cell_type": "code",
   "execution_count": null,
   "metadata": {},
   "outputs": [],
   "source": [
    "pop1 = np.random.binomial(10, 0.4, 10000)\n",
    "pop2 = np.random.binomial(10,0.5, 10000)"
   ]
  },
  {
   "cell_type": "code",
   "execution_count": null,
   "metadata": {},
   "outputs": [],
   "source": [
    "sample1_100 = np.random.choice(pop1, 100, replace=True)\n",
    "sample2_100 = np.random.choice(pop2, 100, replace=True)\n",
    "\n",
    "print(\"Mean of Sample 1 : %s\" % sample1_100.mean())\n",
    "print(\"Mean of Sample 2 : %s\" % sample2_100.mean())\n",
    "print(\"Standard Deviation of Sample 1 : %s\" % sample1_100.std())\n",
    "print(\"Standard Deviation of Sample 2 : %s\" % sample2_100.std())\n",
    "\n",
    "# Compute the difference between the two sample means.\n",
    "diff=sample2_100.mean( ) - sample1_100.mean()\n",
    "print(\"Difference : %s\" % diff)\n",
    "\n",
    "from scipy.stats import ttest_ind\n",
    "print(ttest_ind(sample2_100, sample1_100, equal_var=False))\n",
    "\n",
    "plt.hist(sample1_100, alpha=0.5, label='sample 1') \n",
    "plt.hist(sample2_100, alpha=0.5, label='sample 2') \n",
    "plt.legend(loc='upper right') \n",
    "plt.show()"
   ]
  },
  {
   "cell_type": "markdown",
   "metadata": {},
   "source": [
    "**3. Change the distribution of your populations from binomial to a distribution of your choice. Do the sample mean values still accurately represent the population values?**\n",
    "\n",
    "Answer: Yes. According to The Central Limit Theorem, the statistics should be similar when the sample size is large enough, no matter what distribution is choesn"
   ]
  },
  {
   "cell_type": "code",
   "execution_count": null,
   "metadata": {},
   "outputs": [],
   "source": []
  }
 ],
 "metadata": {
  "kernelspec": {
   "display_name": "Python 3",
   "language": "python",
   "name": "python3"
  },
  "language_info": {
   "codemirror_mode": {
    "name": "ipython",
    "version": 3
   },
   "file_extension": ".py",
   "mimetype": "text/x-python",
   "name": "python",
   "nbconvert_exporter": "python",
   "pygments_lexer": "ipython3",
   "version": "3.7.1"
  }
 },
 "nbformat": 4,
 "nbformat_minor": 2
}
