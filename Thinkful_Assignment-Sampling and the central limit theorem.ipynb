{
 "cells": [
  {
   "cell_type": "markdown",
   "metadata": {},
   "source": [
    "## Assignments\n",
    "\n",
    "Now that you have some code to create your own populations, sample them, and compare the samples to the populations, it's time to experiment. Using your own Jupyter notebook, or a copy of the notebook above, reproduce the pop1 and pop2 populations and samples using numpy's binomial function. Specifically, create two binomially distributed populations with n equal to 10 and size equal to 10000. The p-value of pop1 should be 0.2 and the p-value of pop2 should be 0.5. Using a sample size of 100, calculate the means and standard deviations of your samples.\n",
    "\n",
    "For each of the following tasks, first write what you expect will happen, then code the changes and observe what does happen. Discuss the results with your mentor.\n",
    "\n",
    "**1. Increase the size of your samples from 100 to 1000, then calculate the means and standard deviations for your new samples and create histograms for each. Repeat this again, decreasing the size of your samples to 20. What values change, and what remain the same?**\n",
    "\n",
    "Answer: All values are slightly changed but it can be fine if we see them as same values.In case of the size of samples to 20, statistics looks more different with our expectaion than others (100, 1000)."
   ]
  },
  {
   "cell_type": "code",
   "execution_count": 1,
   "metadata": {},
   "outputs": [],
   "source": [
    "import numpy as np\n",
    "import pandas as pd\n",
    "import scipy\n",
    "import matplotlib.pyplot as plt\n",
    " \n",
    "%matplotlib inline"
   ]
  },
  {
   "cell_type": "code",
   "execution_count": 2,
   "metadata": {},
   "outputs": [],
   "source": [
    "pop1 = np.random.binomial(10, 0.2, 10000)\n",
    "pop2 = np.random.binomial(10,0.5, 10000) "
   ]
  },
  {
   "cell_type": "code",
   "execution_count": 3,
   "metadata": {},
   "outputs": [
    {
     "name": "stdout",
     "output_type": "stream",
     "text": [
      "Mean of Sample 1 : 2.3\n",
      "Mean of Sample 2 : 5.03\n",
      "Standard Deviation of Sample 1 : 1.2845232578665131\n",
      "Standard Deviation of Sample 2 : 1.7632640188014954\n",
      "Difference : 2.7300000000000004\n"
     ]
    },
    {
     "data": {
      "image/png": "[encoded data removed]",
      "text/plain": [
       "<Figure size 432x288 with 1 Axes>"
      ]
     },
     "metadata": {
      "needs_background": "light"
     },
     "output_type": "display_data"
    }
   ],
   "source": [
    "sample1_100 = np.random.choice(pop1, 100, replace=True)\n",
    "sample2_100 = np.random.choice(pop2, 100, replace=True)\n",
    "\n",
    "print(\"Mean of Sample 1 : %s\" % sample1_100.mean())\n",
    "print(\"Mean of Sample 2 : %s\" % sample2_100.mean())\n",
    "print(\"Standard Deviation of Sample 1 : %s\" % sample1_100.std())\n",
    "print(\"Standard Deviation of Sample 2 : %s\" % sample2_100.std())\n",
    "\n",
    "# Compute the difference between the two sample means.\n",
    "diff=sample2_100.mean( ) - sample1_100.mean()\n",
    "print(\"Difference : %s\" % diff)\n",
    "\n",
    "plt.hist(sample1_100, alpha=0.5, label='sample 1') \n",
    "plt.hist(sample2_100, alpha=0.5, label='sample 2') \n",
    "plt.legend(loc='upper right') \n",
    "plt.show()"
   ]
  },
  {
   "cell_type": "code",
   "execution_count": 4,
   "metadata": {},
   "outputs": [
    {
     "name": "stdout",
     "output_type": "stream",
     "text": [
      "Mean of Sample 1 : 1.979\n",
      "Mean of Sample 2 : 4.977\n",
      "Standard Deviation of Sample 1 : 1.2651320089223892\n",
      "Standard Deviation of Sample 2 : 1.5200233550837305\n",
      "Difference : 2.998\n"
     ]
    },
    {
     "data": {
      "image/png": "[encoded data removed]",
      "text/plain": [
       "<Figure size 432x288 with 1 Axes>"
      ]
     },
     "metadata": {
      "needs_background": "light"
     },
     "output_type": "display_data"
    }
   ],
   "source": [
    "sample1_1000 = np.random.choice(pop1, 1000, replace=True)\n",
    "sample2_1000 = np.random.choice(pop2, 1000, replace=True)\n",
    "\n",
    "print(\"Mean of Sample 1 : %s\" % sample1_1000.mean())\n",
    "print(\"Mean of Sample 2 : %s\" % sample2_1000.mean())\n",
    "print(\"Standard Deviation of Sample 1 : %s\" % sample1_1000.std())\n",
    "print(\"Standard Deviation of Sample 2 : %s\" % sample2_1000.std())\n",
    "\n",
    "# Compute the difference between the two sample means.\n",
    "diff=sample2_1000.mean( ) - sample1_1000.mean()\n",
    "print(\"Difference : %s\" % diff)\n",
    "\n",
    "plt.hist(sample1_1000, alpha=0.5, label='sample 1') \n",
    "plt.hist(sample2_1000, alpha=0.5, label='sample 2') \n",
    "plt.legend(loc='upper right') \n",
    "plt.show()"
   ]
  },
  {
   "cell_type": "code",
   "execution_count": 5,
   "metadata": {},
   "outputs": [
    {
     "name": "stdout",
     "output_type": "stream",
     "text": [
      "Mean of Sample 1 : 2.1\n",
      "Mean of Sample 2 : 5.05\n",
      "Standard Deviation of Sample 1 : 1.044030650891055\n",
      "Standard Deviation of Sample 2 : 1.4654350889752845\n",
      "Difference : 2.9499999999999997\n"
     ]
    },
    {
     "data": {
      "image/png": "[encoded data removed]",
      "text/plain": [
       "<Figure size 432x288 with 1 Axes>"
      ]
     },
     "metadata": {
      "needs_background": "light"
     },
     "output_type": "display_data"
    }
   ],
   "source": [
    "sample1_20 = np.random.choice(pop1, 20, replace=True)\n",
    "sample2_20 = np.random.choice(pop2, 20, replace=True)\n",
    "\n",
    "print(\"Mean of Sample 1 : %s\" % sample1_20.mean())\n",
    "print(\"Mean of Sample 2 : %s\" % sample2_20.mean())\n",
    "print(\"Standard Deviation of Sample 1 : %s\" % sample1_20.std())\n",
    "print(\"Standard Deviation of Sample 2 : %s\" % sample2_20.std())\n",
    "\n",
    "# Compute the difference between the two sample means.\n",
    "diff=sample2_20.mean( ) - sample1_20.mean()\n",
    "print(\"Difference : %s\" % diff)\n",
    "\n",
    "plt.hist(sample1_20, alpha=0.5, label='sample 1') \n",
    "plt.hist(sample2_20, alpha=0.5, label='sample 2') \n",
    "plt.legend(loc='upper right') \n",
    "plt.show()"
   ]
  },
  {
   "cell_type": "markdown",
   "metadata": {},
   "source": [
    "**2. Change the probability value (p in the NumPy documentation) for pop1 to 0.3, then take new samples and compute the t-statistic and p-value. Then change the probability value p for group 1 to 0.4, and do it again. What changes, and why?**\n",
    "\n",
    "Answer: t-statistics decreased and the p-value is increased, That means the two samples get more similar when p = 0.4."
   ]
  },
  {
   "cell_type": "code",
   "execution_count": 6,
   "metadata": {},
   "outputs": [],
   "source": [
    "pop1 = np.random.binomial(10, 0.3, 10000)\n",
    "pop2 = np.random.binomial(10,0.5, 10000)"
   ]
  },
  {
   "cell_type": "code",
   "execution_count": 7,
   "metadata": {},
   "outputs": [
    {
     "name": "stdout",
     "output_type": "stream",
     "text": [
      "Mean of Sample 1 : 3.16\n",
      "Mean of Sample 2 : 4.92\n",
      "Standard Deviation of Sample 1 : 1.4333178293735134\n",
      "Standard Deviation of Sample 2 : 1.6951696080333671\n",
      "Difference : 1.7599999999999998\n",
      "Ttest_indResult(statistic=7.888508821606997, pvalue=2.2316206800736184e-13)\n"
     ]
    },
    {
     "data": {
      "image/png": "[encoded data removed]",
      "text/plain": [
       "<Figure size 432x288 with 1 Axes>"
      ]
     },
     "metadata": {
      "needs_background": "light"
     },
     "output_type": "display_data"
    }
   ],
   "source": [
    "sample1_100 = np.random.choice(pop1, 100, replace=True)\n",
    "sample2_100 = np.random.choice(pop2, 100, replace=True)\n",
    "\n",
    "print(\"Mean of Sample 1 : %s\" % sample1_100.mean())\n",
    "print(\"Mean of Sample 2 : %s\" % sample2_100.mean())\n",
    "print(\"Standard Deviation of Sample 1 : %s\" % sample1_100.std())\n",
    "print(\"Standard Deviation of Sample 2 : %s\" % sample2_100.std())\n",
    "\n",
    "# Compute the difference between the two sample means.\n",
    "diff=sample2_100.mean( ) - sample1_100.mean()\n",
    "print(\"Difference : %s\" % diff)\n",
    "\n",
    "from scipy.stats import ttest_ind\n",
    "print(ttest_ind(sample2_100, sample1_100, equal_var=False))\n",
    "\n",
    "plt.hist(sample1_100, alpha=0.5, label='sample 1') \n",
    "plt.hist(sample2_100, alpha=0.5, label='sample 2') \n",
    "plt.legend(loc='upper right') \n",
    "plt.show()"
   ]
  },
  {
   "cell_type": "code",
   "execution_count": 8,
   "metadata": {},
   "outputs": [],
   "source": [
    "pop1 = np.random.binomial(10, 0.4, 10000)\n",
    "pop2 = np.random.binomial(10,0.5, 10000)"
   ]
  },
  {
   "cell_type": "code",
   "execution_count": 9,
   "metadata": {},
   "outputs": [
    {
     "name": "stdout",
     "output_type": "stream",
     "text": [
      "Mean of Sample 1 : 3.94\n",
      "Mean of Sample 2 : 4.8\n",
      "Standard Deviation of Sample 1 : 1.5285287043428395\n",
      "Standard Deviation of Sample 2 : 1.5033296378372907\n",
      "Difference : 0.8599999999999999\n",
      "Ttest_indResult(statistic=3.9912335404589365, pvalue=9.254618599340785e-05)\n"
     ]
    },
    {
     "data": {
      "image/png": "[encoded data removed]",
      "text/plain": [
       "<Figure size 432x288 with 1 Axes>"
      ]
     },
     "metadata": {
      "needs_background": "light"
     },
     "output_type": "display_data"
    }
   ],
   "source": [
    "sample1_100 = np.random.choice(pop1, 100, replace=True)\n",
    "sample2_100 = np.random.choice(pop2, 100, replace=True)\n",
    "\n",
    "print(\"Mean of Sample 1 : %s\" % sample1_100.mean())\n",
    "print(\"Mean of Sample 2 : %s\" % sample2_100.mean())\n",
    "print(\"Standard Deviation of Sample 1 : %s\" % sample1_100.std())\n",
    "print(\"Standard Deviation of Sample 2 : %s\" % sample2_100.std())\n",
    "\n",
    "# Compute the difference between the two sample means.\n",
    "diff=sample2_100.mean( ) - sample1_100.mean()\n",
    "print(\"Difference : %s\" % diff)\n",
    "\n",
    "from scipy.stats import ttest_ind\n",
    "print(ttest_ind(sample2_100, sample1_100, equal_var=False))\n",
    "\n",
    "plt.hist(sample1_100, alpha=0.5, label='sample 1') \n",
    "plt.hist(sample2_100, alpha=0.5, label='sample 2') \n",
    "plt.legend(loc='upper right') \n",
    "plt.show()"
   ]
  },
  {
   "cell_type": "markdown",
   "metadata": {},
   "source": [
    "**3. Change the distribution of your populations from binomial to a distribution of your choice. Do the sample mean values still accurately represent the population values?**\n",
    "\n",
    "Answer: Yes. According to The Central Limit Theorem, the statistics should be similar when the sample size is large enough, no matter what distribution is choesn"
   ]
  },
  {
   "cell_type": "code",
   "execution_count": null,
   "metadata": {},
   "outputs": [],
   "source": []
  }
 ],
 "metadata": {
  "kernelspec": {
   "display_name": "Python 3",
   "language": "python",
   "name": "python3"
  },
  "language_info": {
   "codemirror_mode": {
    "name": "ipython",
    "version": 3
   },
   "file_extension": ".py",
   "mimetype": "text/x-python",
   "name": "python",
   "nbconvert_exporter": "python",
   "pygments_lexer": "ipython3",
   "version": "3.7.1"
  }
 },
 "nbformat": 4,
 "nbformat_minor": 2
}
