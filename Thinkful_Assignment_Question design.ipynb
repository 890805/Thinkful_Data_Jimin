{
 "cells": [
  {
   "cell_type": "markdown",
   "metadata": {},
   "source": [
    "# DRILL: Question Design\n",
    "\n",
    "For each of the following, indicate the best question type to use and why.\n",
    "\n",
    "1. Age\n",
    "    - Write-in\n",
    "2. Gender\n",
    "    - Multiple choice/choose one\n",
    "        1. Male\n",
    "        2. Female\n",
    "        3. Not willing to specify\n",
    "3. Income\n",
    "    - Multiple choice/choose one\n",
    "        1. less than 30K\n",
    "        2. 30 - 50K\n",
    "        3. 50 - 70K\n",
    "        4. 70 - 100K\n",
    "        5. more than 100K\n",
    "\n",
    "4. Opinions about dish soap\n",
    "    - Multiple choice/choose one\n",
    "        1. Very satisfied\n",
    "        2. Satisfied\n",
    "        3. Normal\n",
    "        4. Totally not satisfied\n",
    "    - Write-in\n",
    "        * Please write down if you have any concern to use it\n",
    "5. Brand of dish soap used\n",
    "    - Multiple choice/choose one\n",
    "    \n",
    "6. Preference for dish soap brand (Cleany, Sudsy, DeGreaser, Pinesoft)\n",
    "    - Ranking\n",
    "    \n",
    "7. Positive vs negative feelings about dish soap\n",
    "    - Multiple choice/choose one\n",
    "        1. Very satisfied\n",
    "        2. Satisfied\n",
    "        3. Normal\n",
    "        4. Totally not satisfied"
   ]
  },
  {
   "cell_type": "markdown",
   "metadata": {},
   "source": [
    "# DRILL: Fix the flaw\n",
    "\n",
    "Here is a link to a Mainstream Media Accountability Survey sent to the public by the Trump Administration in February 2017. Read over the survey and select five questions you believe can be improved. Describe the flaw you see and write an improved version of the question. For example, if the original question is: \"Americans are not fully aware just how much waste there is in the federal government.\" Yes No No Opinion\n",
    "\n",
    "The flaw is that this is a loaded question that presupposes the respondent agrees that there is waste in the federal government. To ask this question in a less-biased way, it would need to be converted to two questions:\n",
    "\n",
    "Select the option that describes your opinion of how the federal government handles money:\n",
    "\n",
    "* Wastefully\n",
    "* Efficiently\n",
    "* No Opinion\n",
    "* IF they selected a, then:\n",
    "    * Describe American public opinion about government waste.\n",
    "        * 0 (Unaware) 1 2 (Somewhat Aware) 3 4 (Fully Aware)\n",
    "\n",
    "For each revised question, your version should attempt to get an unbiased picture of the respondent's opinion on the issue. Share your reasoning with your mentor."
   ]
  },
  {
   "cell_type": "code",
   "execution_count": null,
   "metadata": {},
   "outputs": [],
   "source": []
  }
 ],
 "metadata": {
  "kernelspec": {
   "display_name": "Python 3",
   "language": "python",
   "name": "python3"
  },
  "language_info": {
   "codemirror_mode": {
    "name": "ipython",
    "version": 3
   },
   "file_extension": ".py",
   "mimetype": "text/x-python",
   "name": "python",
   "nbconvert_exporter": "python",
   "pygments_lexer": "ipython3",
   "version": "3.7.1"
  }
 },
 "nbformat": 4,
 "nbformat_minor": 2
}
