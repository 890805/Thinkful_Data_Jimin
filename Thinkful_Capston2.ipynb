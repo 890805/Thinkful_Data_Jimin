{
 "cells": [
  {
   "cell_type": "markdown",
   "metadata": {},
   "source": [
    "# Capstone 2: narrative analytics and experimentation\n",
    "\n",
    "## How to reduce suicide?"
   ]
  },
  {
   "cell_type": "code",
   "execution_count": 1,
   "metadata": {},
   "outputs": [],
   "source": [
    "# import libraries\n",
    "import pandas as pd\n",
    "import numpy as np\n",
    "import seaborn as sns\n",
    "import matplotlib.pyplot as plt\n",
    "%matplotlib inline"
   ]
  },
  {
   "cell_type": "markdown",
   "metadata": {},
   "source": [
    "## Suicide Rate (UN)"
   ]
  },
  {
   "cell_type": "code",
   "execution_count": 2,
   "metadata": {},
   "outputs": [],
   "source": [
    "df_sui = pd.read_csv('master.csv')"
   ]
  },
  {
   "cell_type": "code",
   "execution_count": 3,
   "metadata": {},
   "outputs": [],
   "source": [
    "df_sui['country'] = df_sui['country'].apply(lambda x : x.lower())\n",
    "df_sui_mean = df_sui[df_sui['year'] == 2015].groupby(['country']).mean().sort_values(by='suicides/100k pop',ascending = False)"
   ]
  },
  {
   "cell_type": "code",
   "execution_count": 4,
   "metadata": {},
   "outputs": [],
   "source": [
    "df_sui_mean = df_sui_mean.drop(columns=['year','HDI for year', 'population','gdp_per_capita ($)'])"
   ]
  },
  {
   "cell_type": "code",
   "execution_count": 5,
   "metadata": {},
   "outputs": [],
   "source": [
    "df_sui_mean = df_sui_mean.reset_index()"
   ]
  },
  {
   "cell_type": "code",
   "execution_count": 6,
   "metadata": {},
   "outputs": [],
   "source": [
    "df_sui_mean = df_sui_mean.replace('united states','united states of america')\n",
    "df_sui_mean = df_sui_mean.set_index('country')"
   ]
  },
  {
   "cell_type": "code",
   "execution_count": 7,
   "metadata": {},
   "outputs": [
    {
     "data": {
      "text/html": [
       "<div>\n",
       "<style scoped>\n",
       "    .dataframe tbody tr th:only-of-type {\n",
       "        vertical-align: middle;\n",
       "    }\n",
       "\n",
       "    .dataframe tbody tr th {\n",
       "        vertical-align: top;\n",
       "    }\n",
       "\n",
       "    .dataframe thead th {\n",
       "        text-align: right;\n",
       "    }\n",
       "</style>\n",
       "<table border=\"1\" class=\"dataframe\">\n",
       "  <thead>\n",
       "    <tr style=\"text-align: right;\">\n",
       "      <th></th>\n",
       "      <th>suicides_no</th>\n",
       "      <th>suicides/100k pop</th>\n",
       "    </tr>\n",
       "    <tr>\n",
       "      <th>country</th>\n",
       "      <th></th>\n",
       "      <th></th>\n",
       "    </tr>\n",
       "  </thead>\n",
       "  <tbody>\n",
       "    <tr>\n",
       "      <th>republic of korea</th>\n",
       "      <td>1125.833333</td>\n",
       "      <td>32.428333</td>\n",
       "    </tr>\n",
       "    <tr>\n",
       "      <th>lithuania</th>\n",
       "      <td>74.666667</td>\n",
       "      <td>32.123333</td>\n",
       "    </tr>\n",
       "    <tr>\n",
       "      <th>uruguay</th>\n",
       "      <td>52.500000</td>\n",
       "      <td>22.501667</td>\n",
       "    </tr>\n",
       "    <tr>\n",
       "      <th>slovenia</th>\n",
       "      <td>35.166667</td>\n",
       "      <td>22.067500</td>\n",
       "    </tr>\n",
       "    <tr>\n",
       "      <th>hungary</th>\n",
       "      <td>155.666667</td>\n",
       "      <td>21.439167</td>\n",
       "    </tr>\n",
       "  </tbody>\n",
       "</table>\n",
       "</div>"
      ],
      "text/plain": [
       "                   suicides_no  suicides/100k pop\n",
       "country                                          \n",
       "republic of korea  1125.833333          32.428333\n",
       "lithuania            74.666667          32.123333\n",
       "uruguay              52.500000          22.501667\n",
       "slovenia             35.166667          22.067500\n",
       "hungary             155.666667          21.439167"
      ]
     },
     "execution_count": 7,
     "metadata": {},
     "output_type": "execute_result"
    }
   ],
   "source": [
    "df_sui_mean.head()"
   ]
  },
  {
   "cell_type": "markdown",
   "metadata": {},
   "source": [
    "## World Happiness Report (UN)"
   ]
  },
  {
   "cell_type": "code",
   "execution_count": 8,
   "metadata": {},
   "outputs": [],
   "source": [
    "df_happ = pd.read_csv('happy_2015.csv')\n",
    "df_happ['Country'] = df_happ['Country'].apply(lambda x : x.lower())"
   ]
  },
  {
   "cell_type": "code",
   "execution_count": 9,
   "metadata": {},
   "outputs": [],
   "source": [
    "df_happ = df_happ.replace('south korea','republic of korea')\n",
    "df_happ = df_happ.replace('united states','united states of america')"
   ]
  },
  {
   "cell_type": "code",
   "execution_count": 10,
   "metadata": {},
   "outputs": [
    {
     "data": {
      "text/html": [
       "<div>\n",
       "<style scoped>\n",
       "    .dataframe tbody tr th:only-of-type {\n",
       "        vertical-align: middle;\n",
       "    }\n",
       "\n",
       "    .dataframe tbody tr th {\n",
       "        vertical-align: top;\n",
       "    }\n",
       "\n",
       "    .dataframe thead th {\n",
       "        text-align: right;\n",
       "    }\n",
       "</style>\n",
       "<table border=\"1\" class=\"dataframe\">\n",
       "  <thead>\n",
       "    <tr style=\"text-align: right;\">\n",
       "      <th></th>\n",
       "      <th>Region</th>\n",
       "      <th>Happiness Rank</th>\n",
       "      <th>Happiness Score</th>\n",
       "      <th>Standard Error</th>\n",
       "      <th>Economy (GDP per Capita)</th>\n",
       "      <th>Family</th>\n",
       "      <th>Health (Life Expectancy)</th>\n",
       "      <th>Freedom</th>\n",
       "      <th>Trust (Government Corruption)</th>\n",
       "      <th>Generosity</th>\n",
       "      <th>Dystopia Residual</th>\n",
       "    </tr>\n",
       "    <tr>\n",
       "      <th>Country</th>\n",
       "      <th></th>\n",
       "      <th></th>\n",
       "      <th></th>\n",
       "      <th></th>\n",
       "      <th></th>\n",
       "      <th></th>\n",
       "      <th></th>\n",
       "      <th></th>\n",
       "      <th></th>\n",
       "      <th></th>\n",
       "      <th></th>\n",
       "    </tr>\n",
       "  </thead>\n",
       "  <tbody>\n",
       "    <tr>\n",
       "      <th>switzerland</th>\n",
       "      <td>Western Europe</td>\n",
       "      <td>1</td>\n",
       "      <td>7.587</td>\n",
       "      <td>0.03411</td>\n",
       "      <td>1.39651</td>\n",
       "      <td>1.34951</td>\n",
       "      <td>0.94143</td>\n",
       "      <td>0.66557</td>\n",
       "      <td>0.41978</td>\n",
       "      <td>0.29678</td>\n",
       "      <td>2.51738</td>\n",
       "    </tr>\n",
       "    <tr>\n",
       "      <th>iceland</th>\n",
       "      <td>Western Europe</td>\n",
       "      <td>2</td>\n",
       "      <td>7.561</td>\n",
       "      <td>0.04884</td>\n",
       "      <td>1.30232</td>\n",
       "      <td>1.40223</td>\n",
       "      <td>0.94784</td>\n",
       "      <td>0.62877</td>\n",
       "      <td>0.14145</td>\n",
       "      <td>0.43630</td>\n",
       "      <td>2.70201</td>\n",
       "    </tr>\n",
       "    <tr>\n",
       "      <th>denmark</th>\n",
       "      <td>Western Europe</td>\n",
       "      <td>3</td>\n",
       "      <td>7.527</td>\n",
       "      <td>0.03328</td>\n",
       "      <td>1.32548</td>\n",
       "      <td>1.36058</td>\n",
       "      <td>0.87464</td>\n",
       "      <td>0.64938</td>\n",
       "      <td>0.48357</td>\n",
       "      <td>0.34139</td>\n",
       "      <td>2.49204</td>\n",
       "    </tr>\n",
       "    <tr>\n",
       "      <th>norway</th>\n",
       "      <td>Western Europe</td>\n",
       "      <td>4</td>\n",
       "      <td>7.522</td>\n",
       "      <td>0.03880</td>\n",
       "      <td>1.45900</td>\n",
       "      <td>1.33095</td>\n",
       "      <td>0.88521</td>\n",
       "      <td>0.66973</td>\n",
       "      <td>0.36503</td>\n",
       "      <td>0.34699</td>\n",
       "      <td>2.46531</td>\n",
       "    </tr>\n",
       "    <tr>\n",
       "      <th>canada</th>\n",
       "      <td>North America</td>\n",
       "      <td>5</td>\n",
       "      <td>7.427</td>\n",
       "      <td>0.03553</td>\n",
       "      <td>1.32629</td>\n",
       "      <td>1.32261</td>\n",
       "      <td>0.90563</td>\n",
       "      <td>0.63297</td>\n",
       "      <td>0.32957</td>\n",
       "      <td>0.45811</td>\n",
       "      <td>2.45176</td>\n",
       "    </tr>\n",
       "  </tbody>\n",
       "</table>\n",
       "</div>"
      ],
      "text/plain": [
       "                     Region  Happiness Rank  Happiness Score  Standard Error  \\\n",
       "Country                                                                        \n",
       "switzerland  Western Europe               1            7.587         0.03411   \n",
       "iceland      Western Europe               2            7.561         0.04884   \n",
       "denmark      Western Europe               3            7.527         0.03328   \n",
       "norway       Western Europe               4            7.522         0.03880   \n",
       "canada        North America               5            7.427         0.03553   \n",
       "\n",
       "             Economy (GDP per Capita)   Family  Health (Life Expectancy)  \\\n",
       "Country                                                                    \n",
       "switzerland                   1.39651  1.34951                   0.94143   \n",
       "iceland                       1.30232  1.40223                   0.94784   \n",
       "denmark                       1.32548  1.36058                   0.87464   \n",
       "norway                        1.45900  1.33095                   0.88521   \n",
       "canada                        1.32629  1.32261                   0.90563   \n",
       "\n",
       "             Freedom  Trust (Government Corruption)  Generosity  \\\n",
       "Country                                                           \n",
       "switzerland  0.66557                        0.41978     0.29678   \n",
       "iceland      0.62877                        0.14145     0.43630   \n",
       "denmark      0.64938                        0.48357     0.34139   \n",
       "norway       0.66973                        0.36503     0.34699   \n",
       "canada       0.63297                        0.32957     0.45811   \n",
       "\n",
       "             Dystopia Residual  \n",
       "Country                         \n",
       "switzerland            2.51738  \n",
       "iceland                2.70201  \n",
       "denmark                2.49204  \n",
       "norway                 2.46531  \n",
       "canada                 2.45176  "
      ]
     },
     "execution_count": 10,
     "metadata": {},
     "output_type": "execute_result"
    }
   ],
   "source": [
    "df_happ = df_happ.set_index('Country')\n",
    "df_happ.head()"
   ]
  },
  {
   "cell_type": "markdown",
   "metadata": {},
   "source": [
    "## Mental Hospital Sector (per 100K)"
   ]
  },
  {
   "cell_type": "code",
   "execution_count": 11,
   "metadata": {},
   "outputs": [],
   "source": [
    "df_hospital = pd.read_csv('UNdata_Export_20190726_074514024.csv')"
   ]
  },
  {
   "cell_type": "code",
   "execution_count": 12,
   "metadata": {},
   "outputs": [],
   "source": [
    "df_hospital['Country or Area'] = df_hospital['Country or Area'].apply(lambda x: x.lower())"
   ]
  },
  {
   "cell_type": "code",
   "execution_count": 13,
   "metadata": {},
   "outputs": [],
   "source": [
    "df_hospital = df_hospital.set_index('Country or Area')"
   ]
  },
  {
   "cell_type": "code",
   "execution_count": 14,
   "metadata": {},
   "outputs": [
    {
     "data": {
      "text/html": [
       "<div>\n",
       "<style scoped>\n",
       "    .dataframe tbody tr th:only-of-type {\n",
       "        vertical-align: middle;\n",
       "    }\n",
       "\n",
       "    .dataframe tbody tr th {\n",
       "        vertical-align: top;\n",
       "    }\n",
       "\n",
       "    .dataframe thead th {\n",
       "        text-align: right;\n",
       "    }\n",
       "</style>\n",
       "<table border=\"1\" class=\"dataframe\">\n",
       "  <thead>\n",
       "    <tr style=\"text-align: right;\">\n",
       "      <th></th>\n",
       "      <th>Mental hospitals (per 100,000)</th>\n",
       "    </tr>\n",
       "    <tr>\n",
       "      <th>Country or Area</th>\n",
       "      <th></th>\n",
       "    </tr>\n",
       "  </thead>\n",
       "  <tbody>\n",
       "    <tr>\n",
       "      <th>afghanistan</th>\n",
       "      <td>0.00</td>\n",
       "    </tr>\n",
       "    <tr>\n",
       "      <th>albania</th>\n",
       "      <td>0.06</td>\n",
       "    </tr>\n",
       "    <tr>\n",
       "      <th>algeria</th>\n",
       "      <td>0.04</td>\n",
       "    </tr>\n",
       "    <tr>\n",
       "      <th>andorra</th>\n",
       "      <td>0.00</td>\n",
       "    </tr>\n",
       "    <tr>\n",
       "      <th>angola</th>\n",
       "      <td>0.01</td>\n",
       "    </tr>\n",
       "  </tbody>\n",
       "</table>\n",
       "</div>"
      ],
      "text/plain": [
       "                 Mental hospitals (per 100,000)\n",
       "Country or Area                                \n",
       "afghanistan                                0.00\n",
       "albania                                    0.06\n",
       "algeria                                    0.04\n",
       "andorra                                    0.00\n",
       "angola                                     0.01"
      ]
     },
     "execution_count": 14,
     "metadata": {},
     "output_type": "execute_result"
    }
   ],
   "source": [
    "df_hospital = df_hospital.drop(columns=['Year(s)','Value Footnotes'])\n",
    "df_hospital = df_hospital.rename(columns={\"Value\": \"Mental hospitals (per 100,000)\"})\n",
    "df_hospital.head()"
   ]
  },
  {
   "cell_type": "markdown",
   "metadata": {},
   "source": [
    "## Psychiatrists Working in the Mental Health Sector (per 100,000)"
   ]
  },
  {
   "cell_type": "code",
   "execution_count": 15,
   "metadata": {},
   "outputs": [],
   "source": [
    "df_psych = pd.read_csv('UN_psychiatrist.csv')"
   ]
  },
  {
   "cell_type": "code",
   "execution_count": 16,
   "metadata": {},
   "outputs": [],
   "source": [
    "df_psych['Country or Area'] = df_psych['Country or Area'].apply(lambda x: x.lower())"
   ]
  },
  {
   "cell_type": "code",
   "execution_count": 17,
   "metadata": {},
   "outputs": [],
   "source": [
    "df_psych = df_psych.set_index('Country or Area')"
   ]
  },
  {
   "cell_type": "code",
   "execution_count": 18,
   "metadata": {},
   "outputs": [],
   "source": [
    "df_psych = df_psych.drop(columns=['Year(s)','Value Footnotes'])"
   ]
  },
  {
   "cell_type": "code",
   "execution_count": 19,
   "metadata": {},
   "outputs": [],
   "source": [
    "df_psych = df_psych.rename(columns={\"Value\": \"Psychiatrists (per 100,000)\"})"
   ]
  },
  {
   "cell_type": "code",
   "execution_count": 20,
   "metadata": {},
   "outputs": [
    {
     "data": {
      "text/html": [
       "<div>\n",
       "<style scoped>\n",
       "    .dataframe tbody tr th:only-of-type {\n",
       "        vertical-align: middle;\n",
       "    }\n",
       "\n",
       "    .dataframe tbody tr th {\n",
       "        vertical-align: top;\n",
       "    }\n",
       "\n",
       "    .dataframe thead th {\n",
       "        text-align: right;\n",
       "    }\n",
       "</style>\n",
       "<table border=\"1\" class=\"dataframe\">\n",
       "  <thead>\n",
       "    <tr style=\"text-align: right;\">\n",
       "      <th></th>\n",
       "      <th>Psychiatrists (per 100,000)</th>\n",
       "    </tr>\n",
       "    <tr>\n",
       "      <th>Country or Area</th>\n",
       "      <th></th>\n",
       "    </tr>\n",
       "  </thead>\n",
       "  <tbody>\n",
       "    <tr>\n",
       "      <th>afghanistan</th>\n",
       "      <td>0.16</td>\n",
       "    </tr>\n",
       "    <tr>\n",
       "      <th>albania</th>\n",
       "      <td>1.83</td>\n",
       "    </tr>\n",
       "    <tr>\n",
       "      <th>algeria</th>\n",
       "      <td>1.55</td>\n",
       "    </tr>\n",
       "    <tr>\n",
       "      <th>andorra</th>\n",
       "      <td>6.92</td>\n",
       "    </tr>\n",
       "    <tr>\n",
       "      <th>angola</th>\n",
       "      <td>0.02</td>\n",
       "    </tr>\n",
       "  </tbody>\n",
       "</table>\n",
       "</div>"
      ],
      "text/plain": [
       "                 Psychiatrists (per 100,000)\n",
       "Country or Area                             \n",
       "afghanistan                             0.16\n",
       "albania                                 1.83\n",
       "algeria                                 1.55\n",
       "andorra                                 6.92\n",
       "angola                                  0.02"
      ]
     },
     "execution_count": 20,
     "metadata": {},
     "output_type": "execute_result"
    }
   ],
   "source": [
    "df_psych.head()"
   ]
  },
  {
   "cell_type": "markdown",
   "metadata": {},
   "source": [
    "## Joining Dataframs for Research"
   ]
  },
  {
   "cell_type": "code",
   "execution_count": 21,
   "metadata": {},
   "outputs": [
    {
     "data": {
      "text/html": [
       "<div>\n",
       "<style scoped>\n",
       "    .dataframe tbody tr th:only-of-type {\n",
       "        vertical-align: middle;\n",
       "    }\n",
       "\n",
       "    .dataframe tbody tr th {\n",
       "        vertical-align: top;\n",
       "    }\n",
       "\n",
       "    .dataframe thead th {\n",
       "        text-align: right;\n",
       "    }\n",
       "</style>\n",
       "<table border=\"1\" class=\"dataframe\">\n",
       "  <thead>\n",
       "    <tr style=\"text-align: right;\">\n",
       "      <th></th>\n",
       "      <th>Country</th>\n",
       "      <th>suicides_no</th>\n",
       "      <th>suicides/100k pop</th>\n",
       "      <th>Region</th>\n",
       "      <th>Happiness Rank</th>\n",
       "      <th>Happiness Score</th>\n",
       "      <th>Standard Error</th>\n",
       "      <th>Economy (GDP per Capita)</th>\n",
       "      <th>Family</th>\n",
       "      <th>Health (Life Expectancy)</th>\n",
       "      <th>Freedom</th>\n",
       "      <th>Trust (Government Corruption)</th>\n",
       "      <th>Generosity</th>\n",
       "      <th>Dystopia Residual</th>\n",
       "      <th>Mental hospitals (per 100,000)</th>\n",
       "      <th>Psychiatrists (per 100,000)</th>\n",
       "    </tr>\n",
       "  </thead>\n",
       "  <tbody>\n",
       "    <tr>\n",
       "      <th>0</th>\n",
       "      <td>republic of korea</td>\n",
       "      <td>1125.833333</td>\n",
       "      <td>32.428333</td>\n",
       "      <td>Eastern Asia</td>\n",
       "      <td>47</td>\n",
       "      <td>5.984</td>\n",
       "      <td>0.04098</td>\n",
       "      <td>1.24461</td>\n",
       "      <td>0.95774</td>\n",
       "      <td>0.96538</td>\n",
       "      <td>0.33208</td>\n",
       "      <td>0.07857</td>\n",
       "      <td>0.18557</td>\n",
       "      <td>2.21978</td>\n",
       "      <td>2.54</td>\n",
       "      <td>5.12</td>\n",
       "    </tr>\n",
       "    <tr>\n",
       "      <th>1</th>\n",
       "      <td>lithuania</td>\n",
       "      <td>74.666667</td>\n",
       "      <td>32.123333</td>\n",
       "      <td>Central and Eastern Europe</td>\n",
       "      <td>56</td>\n",
       "      <td>5.833</td>\n",
       "      <td>0.03843</td>\n",
       "      <td>1.14723</td>\n",
       "      <td>1.25745</td>\n",
       "      <td>0.73128</td>\n",
       "      <td>0.21342</td>\n",
       "      <td>0.01031</td>\n",
       "      <td>0.02641</td>\n",
       "      <td>2.44649</td>\n",
       "      <td>0.34</td>\n",
       "      <td>17.76</td>\n",
       "    </tr>\n",
       "    <tr>\n",
       "      <th>2</th>\n",
       "      <td>slovenia</td>\n",
       "      <td>35.166667</td>\n",
       "      <td>22.067500</td>\n",
       "      <td>Central and Eastern Europe</td>\n",
       "      <td>55</td>\n",
       "      <td>5.848</td>\n",
       "      <td>0.04251</td>\n",
       "      <td>1.18498</td>\n",
       "      <td>1.27385</td>\n",
       "      <td>0.87337</td>\n",
       "      <td>0.60855</td>\n",
       "      <td>0.03787</td>\n",
       "      <td>0.25328</td>\n",
       "      <td>1.61583</td>\n",
       "      <td>0.30</td>\n",
       "      <td>7.06</td>\n",
       "    </tr>\n",
       "    <tr>\n",
       "      <th>3</th>\n",
       "      <td>hungary</td>\n",
       "      <td>155.666667</td>\n",
       "      <td>21.439167</td>\n",
       "      <td>Central and Eastern Europe</td>\n",
       "      <td>104</td>\n",
       "      <td>4.800</td>\n",
       "      <td>0.06107</td>\n",
       "      <td>1.12094</td>\n",
       "      <td>1.20215</td>\n",
       "      <td>0.75905</td>\n",
       "      <td>0.32112</td>\n",
       "      <td>0.02758</td>\n",
       "      <td>0.12800</td>\n",
       "      <td>1.24074</td>\n",
       "      <td>0.03</td>\n",
       "      <td>6.52</td>\n",
       "    </tr>\n",
       "    <tr>\n",
       "      <th>4</th>\n",
       "      <td>latvia</td>\n",
       "      <td>32.250000</td>\n",
       "      <td>20.955833</td>\n",
       "      <td>Central and Eastern Europe</td>\n",
       "      <td>89</td>\n",
       "      <td>5.098</td>\n",
       "      <td>0.04640</td>\n",
       "      <td>1.11312</td>\n",
       "      <td>1.09562</td>\n",
       "      <td>0.72437</td>\n",
       "      <td>0.29671</td>\n",
       "      <td>0.06332</td>\n",
       "      <td>0.18226</td>\n",
       "      <td>1.62215</td>\n",
       "      <td>0.27</td>\n",
       "      <td>10.85</td>\n",
       "    </tr>\n",
       "  </tbody>\n",
       "</table>\n",
       "</div>"
      ],
      "text/plain": [
       "             Country  suicides_no  suicides/100k pop  \\\n",
       "0  republic of korea  1125.833333          32.428333   \n",
       "1          lithuania    74.666667          32.123333   \n",
       "2           slovenia    35.166667          22.067500   \n",
       "3            hungary   155.666667          21.439167   \n",
       "4             latvia    32.250000          20.955833   \n",
       "\n",
       "                       Region  Happiness Rank  Happiness Score  \\\n",
       "0                Eastern Asia              47            5.984   \n",
       "1  Central and Eastern Europe              56            5.833   \n",
       "2  Central and Eastern Europe              55            5.848   \n",
       "3  Central and Eastern Europe             104            4.800   \n",
       "4  Central and Eastern Europe              89            5.098   \n",
       "\n",
       "   Standard Error  Economy (GDP per Capita)   Family  \\\n",
       "0         0.04098                   1.24461  0.95774   \n",
       "1         0.03843                   1.14723  1.25745   \n",
       "2         0.04251                   1.18498  1.27385   \n",
       "3         0.06107                   1.12094  1.20215   \n",
       "4         0.04640                   1.11312  1.09562   \n",
       "\n",
       "   Health (Life Expectancy)  Freedom  Trust (Government Corruption)  \\\n",
       "0                   0.96538  0.33208                        0.07857   \n",
       "1                   0.73128  0.21342                        0.01031   \n",
       "2                   0.87337  0.60855                        0.03787   \n",
       "3                   0.75905  0.32112                        0.02758   \n",
       "4                   0.72437  0.29671                        0.06332   \n",
       "\n",
       "   Generosity  Dystopia Residual  Mental hospitals (per 100,000)  \\\n",
       "0     0.18557            2.21978                            2.54   \n",
       "1     0.02641            2.44649                            0.34   \n",
       "2     0.25328            1.61583                            0.30   \n",
       "3     0.12800            1.24074                            0.03   \n",
       "4     0.18226            1.62215                            0.27   \n",
       "\n",
       "   Psychiatrists (per 100,000)  \n",
       "0                         5.12  \n",
       "1                        17.76  \n",
       "2                         7.06  \n",
       "3                         6.52  \n",
       "4                        10.85  "
      ]
     },
     "execution_count": 21,
     "metadata": {},
     "output_type": "execute_result"
    }
   ],
   "source": [
    "df_join = pd.concat([df_sui_mean, df_happ, df_hospital, df_psych], axis=1, join='inner').reset_index()\n",
    "df_join = df_join.rename(columns={\"index\": \"Country\"})\n",
    "df_join.head()"
   ]
  },
  {
   "cell_type": "code",
   "execution_count": 22,
   "metadata": {},
   "outputs": [],
   "source": [
    "top10Sui = df_join.nlargest(10,'suicides/100k pop')\n",
    "bottm10Sui = df_join.nsmallest(10,'suicides/100k pop')"
   ]
  },
  {
   "cell_type": "code",
   "execution_count": 51,
   "metadata": {},
   "outputs": [
    {
     "data": {
      "image/png": "[encoded data removed]",
      "text/plain": [
       "<Figure size 432x288 with 1 Axes>"
      ]
     },
     "metadata": {},
     "output_type": "display_data"
    }
   ],
   "source": [
    "sns.set(style=\"whitegrid\")\n",
    "ax = sns.barplot(x=\"suicides/100k pop\", y=\"Country\", data=top10Sui, palette=\"BrBG\")"
   ]
  },
  {
   "cell_type": "code",
   "execution_count": 52,
   "metadata": {},
   "outputs": [
    {
     "data": {
      "image/png": "[encoded data removed]",
      "text/plain": [
       "<Figure size 432x288 with 1 Axes>"
      ]
     },
     "metadata": {},
     "output_type": "display_data"
    }
   ],
   "source": [
    "ax = sns.barplot(x=\"suicides/100k pop\", y=\"Country\", data=bottm10Sui, palette='BrBG')"
   ]
  },
  {
   "cell_type": "markdown",
   "metadata": {},
   "source": [
    "## Relationships between variables"
   ]
  },
  {
   "cell_type": "code",
   "execution_count": 25,
   "metadata": {},
   "outputs": [
    {
     "name": "stderr",
     "output_type": "stream",
     "text": [
      "/anaconda3/lib/python3.7/site-packages/scipy/stats/stats.py:1713: FutureWarning: Using a non-tuple sequence for multidimensional indexing is deprecated; use `arr[tuple(seq)]` instead of `arr[seq]`. In the future this will be interpreted as an array index, `arr[np.array(seq)]`, which will result either in an error or a different result.\n",
      "  return np.add.reduce(sorted[indexer] * weights, axis=axis) / sumval\n"
     ]
    },
    {
     "data": {
      "image/png": "[encoded data removed]",
      "text/plain": [
       "<Figure size 720x720 with 20 Axes>"
      ]
     },
     "metadata": {},
     "output_type": "display_data"
    }
   ],
   "source": [
    "new_df = df_join[['Country','suicides/100k pop','Happiness Score','Economy (GDP per Capita)','Psychiatrists (per 100,000)']]\n",
    "sns.pairplot(new_df, kind = 'reg')\n",
    "plt.show()"
   ]
  },
  {
   "cell_type": "markdown",
   "metadata": {},
   "source": [
    "According to the above plots, There is no correlation between happiness score and suicide rates. Instead, there is a slight relationship between Psychiatrists and suicide rates. Also, Economy status seems to be related to the suicide rate."
   ]
  },
  {
   "cell_type": "code",
   "execution_count": 29,
   "metadata": {},
   "outputs": [],
   "source": [
    "top10Sui['Ratio Psy/Sui'] =top10Sui['Psychiatrists (per 100,000)']/ top10Sui['suicides/100k pop']\n",
    "bottm10Sui['Ratio Psy/Sui'] = bottm10Sui['Psychiatrists (per 100,000)']/ bottm10Sui['suicides/100k pop']"
   ]
  },
  {
   "cell_type": "code",
   "execution_count": 31,
   "metadata": {},
   "outputs": [
    {
     "data": {
      "image/png": "[encoded data removed]",
      "text/plain": [
       "<Figure size 432x288 with 1 Axes>"
      ]
     },
     "metadata": {},
     "output_type": "display_data"
    }
   ],
   "source": [
    "sns.barplot(x='Ratio Psy/Sui', y=\"Country\", data=top10Sui, palette=\"GnBu_d\")\n",
    "plt.show()"
   ]
  },
  {
   "cell_type": "code",
   "execution_count": 32,
   "metadata": {},
   "outputs": [
    {
     "data": {
      "image/png": "[encoded data removed]",
      "text/plain": [
       "<Figure size 432x288 with 1 Axes>"
      ]
     },
     "metadata": {},
     "output_type": "display_data"
    }
   ],
   "source": [
    "sns.barplot(x='Ratio Psy/Sui', y=\"Country\", data=bottm10Sui, palette=\"GnBu_d\")\n",
    "plt.show()"
   ]
  },
  {
   "cell_type": "code",
   "execution_count": 62,
   "metadata": {},
   "outputs": [
    {
     "data": {
      "text/html": [
       "<div>\n",
       "<style scoped>\n",
       "    .dataframe tbody tr th:only-of-type {\n",
       "        vertical-align: middle;\n",
       "    }\n",
       "\n",
       "    .dataframe tbody tr th {\n",
       "        vertical-align: top;\n",
       "    }\n",
       "\n",
       "    .dataframe thead th {\n",
       "        text-align: right;\n",
       "    }\n",
       "</style>\n",
       "<table border=\"1\" class=\"dataframe\">\n",
       "  <thead>\n",
       "    <tr style=\"text-align: right;\">\n",
       "      <th></th>\n",
       "      <th>Country</th>\n",
       "      <th>suicides/100k pop</th>\n",
       "      <th>Economy (GDP per Capita)</th>\n",
       "      <th>Psychiatrists (per 100,000)</th>\n",
       "      <th>Ratio Psy/Sui</th>\n",
       "    </tr>\n",
       "  </thead>\n",
       "  <tbody>\n",
       "    <tr>\n",
       "      <th>0</th>\n",
       "      <td>republic of korea</td>\n",
       "      <td>32.428333</td>\n",
       "      <td>1.24461</td>\n",
       "      <td>5.12</td>\n",
       "      <td>0.157887</td>\n",
       "    </tr>\n",
       "    <tr>\n",
       "      <th>1</th>\n",
       "      <td>lithuania</td>\n",
       "      <td>32.123333</td>\n",
       "      <td>1.14723</td>\n",
       "      <td>17.76</td>\n",
       "      <td>0.552869</td>\n",
       "    </tr>\n",
       "    <tr>\n",
       "      <th>2</th>\n",
       "      <td>slovenia</td>\n",
       "      <td>22.067500</td>\n",
       "      <td>1.18498</td>\n",
       "      <td>7.06</td>\n",
       "      <td>0.319927</td>\n",
       "    </tr>\n",
       "    <tr>\n",
       "      <th>3</th>\n",
       "      <td>hungary</td>\n",
       "      <td>21.439167</td>\n",
       "      <td>1.12094</td>\n",
       "      <td>6.52</td>\n",
       "      <td>0.304116</td>\n",
       "    </tr>\n",
       "    <tr>\n",
       "      <th>4</th>\n",
       "      <td>latvia</td>\n",
       "      <td>20.955833</td>\n",
       "      <td>1.11312</td>\n",
       "      <td>10.85</td>\n",
       "      <td>0.517756</td>\n",
       "    </tr>\n",
       "    <tr>\n",
       "      <th>5</th>\n",
       "      <td>ukraine</td>\n",
       "      <td>20.393333</td>\n",
       "      <td>0.79907</td>\n",
       "      <td>10.11</td>\n",
       "      <td>0.495750</td>\n",
       "    </tr>\n",
       "    <tr>\n",
       "      <th>6</th>\n",
       "      <td>kazakhstan</td>\n",
       "      <td>19.835000</td>\n",
       "      <td>1.12254</td>\n",
       "      <td>6.26</td>\n",
       "      <td>0.315604</td>\n",
       "    </tr>\n",
       "    <tr>\n",
       "      <th>7</th>\n",
       "      <td>croatia</td>\n",
       "      <td>19.140000</td>\n",
       "      <td>1.08254</td>\n",
       "      <td>10.25</td>\n",
       "      <td>0.535528</td>\n",
       "    </tr>\n",
       "    <tr>\n",
       "      <th>8</th>\n",
       "      <td>japan</td>\n",
       "      <td>17.170000</td>\n",
       "      <td>1.27074</td>\n",
       "      <td>10.10</td>\n",
       "      <td>0.588235</td>\n",
       "    </tr>\n",
       "    <tr>\n",
       "      <th>9</th>\n",
       "      <td>serbia</td>\n",
       "      <td>17.164167</td>\n",
       "      <td>0.92053</td>\n",
       "      <td>9.61</td>\n",
       "      <td>0.559887</td>\n",
       "    </tr>\n",
       "  </tbody>\n",
       "</table>\n",
       "</div>"
      ],
      "text/plain": [
       "             Country  suicides/100k pop  Economy (GDP per Capita)  \\\n",
       "0  republic of korea          32.428333                   1.24461   \n",
       "1          lithuania          32.123333                   1.14723   \n",
       "2           slovenia          22.067500                   1.18498   \n",
       "3            hungary          21.439167                   1.12094   \n",
       "4             latvia          20.955833                   1.11312   \n",
       "5            ukraine          20.393333                   0.79907   \n",
       "6         kazakhstan          19.835000                   1.12254   \n",
       "7            croatia          19.140000                   1.08254   \n",
       "8              japan          17.170000                   1.27074   \n",
       "9             serbia          17.164167                   0.92053   \n",
       "\n",
       "   Psychiatrists (per 100,000)  Ratio Psy/Sui  \n",
       "0                         5.12       0.157887  \n",
       "1                        17.76       0.552869  \n",
       "2                         7.06       0.319927  \n",
       "3                         6.52       0.304116  \n",
       "4                        10.85       0.517756  \n",
       "5                        10.11       0.495750  \n",
       "6                         6.26       0.315604  \n",
       "7                        10.25       0.535528  \n",
       "8                        10.10       0.588235  \n",
       "9                         9.61       0.559887  "
      ]
     },
     "execution_count": 62,
     "metadata": {},
     "output_type": "execute_result"
    }
   ],
   "source": [
    "top10Sui[['Country', 'suicides/100k pop','Economy (GDP per Capita)', 'Psychiatrists (per 100,000)','Ratio Psy/Sui']]"
   ]
  },
  {
   "cell_type": "code",
   "execution_count": 63,
   "metadata": {},
   "outputs": [
    {
     "data": {
      "text/html": [
       "<div>\n",
       "<style scoped>\n",
       "    .dataframe tbody tr th:only-of-type {\n",
       "        vertical-align: middle;\n",
       "    }\n",
       "\n",
       "    .dataframe tbody tr th {\n",
       "        vertical-align: top;\n",
       "    }\n",
       "\n",
       "    .dataframe thead th {\n",
       "        text-align: right;\n",
       "    }\n",
       "</style>\n",
       "<table border=\"1\" class=\"dataframe\">\n",
       "  <thead>\n",
       "    <tr style=\"text-align: right;\">\n",
       "      <th></th>\n",
       "      <th>Country</th>\n",
       "      <th>suicides/100k pop</th>\n",
       "      <th>Economy (GDP per Capita)</th>\n",
       "      <th>Psychiatrists (per 100,000)</th>\n",
       "      <th>Ratio Psy/Sui</th>\n",
       "    </tr>\n",
       "  </thead>\n",
       "  <tbody>\n",
       "    <tr>\n",
       "      <th>45</th>\n",
       "      <td>south africa</td>\n",
       "      <td>1.083333</td>\n",
       "      <td>0.92049</td>\n",
       "      <td>0.27</td>\n",
       "      <td>0.249231</td>\n",
       "    </tr>\n",
       "    <tr>\n",
       "      <th>44</th>\n",
       "      <td>qatar</td>\n",
       "      <td>1.570000</td>\n",
       "      <td>1.69042</td>\n",
       "      <td>1.66</td>\n",
       "      <td>1.057325</td>\n",
       "    </tr>\n",
       "    <tr>\n",
       "      <th>43</th>\n",
       "      <td>turkey</td>\n",
       "      <td>2.372500</td>\n",
       "      <td>1.06098</td>\n",
       "      <td>2.13</td>\n",
       "      <td>0.897787</td>\n",
       "    </tr>\n",
       "    <tr>\n",
       "      <th>42</th>\n",
       "      <td>guatemala</td>\n",
       "      <td>3.737500</td>\n",
       "      <td>0.74553</td>\n",
       "      <td>0.59</td>\n",
       "      <td>0.157860</td>\n",
       "    </tr>\n",
       "    <tr>\n",
       "      <th>41</th>\n",
       "      <td>panama</td>\n",
       "      <td>3.741667</td>\n",
       "      <td>1.06353</td>\n",
       "      <td>3.99</td>\n",
       "      <td>1.066370</td>\n",
       "    </tr>\n",
       "    <tr>\n",
       "      <th>40</th>\n",
       "      <td>armenia</td>\n",
       "      <td>3.773333</td>\n",
       "      <td>0.76821</td>\n",
       "      <td>4.04</td>\n",
       "      <td>1.070671</td>\n",
       "    </tr>\n",
       "    <tr>\n",
       "      <th>39</th>\n",
       "      <td>cyprus</td>\n",
       "      <td>4.132500</td>\n",
       "      <td>1.20813</td>\n",
       "      <td>6.82</td>\n",
       "      <td>1.650333</td>\n",
       "    </tr>\n",
       "    <tr>\n",
       "      <th>38</th>\n",
       "      <td>greece</td>\n",
       "      <td>4.671667</td>\n",
       "      <td>1.15406</td>\n",
       "      <td>12.88</td>\n",
       "      <td>2.757046</td>\n",
       "    </tr>\n",
       "    <tr>\n",
       "      <th>37</th>\n",
       "      <td>israel</td>\n",
       "      <td>5.492500</td>\n",
       "      <td>1.22857</td>\n",
       "      <td>8.24</td>\n",
       "      <td>1.500228</td>\n",
       "    </tr>\n",
       "    <tr>\n",
       "      <th>36</th>\n",
       "      <td>mexico</td>\n",
       "      <td>5.547500</td>\n",
       "      <td>1.02054</td>\n",
       "      <td>1.57</td>\n",
       "      <td>0.283010</td>\n",
       "    </tr>\n",
       "  </tbody>\n",
       "</table>\n",
       "</div>"
      ],
      "text/plain": [
       "         Country  suicides/100k pop  Economy (GDP per Capita)  \\\n",
       "45  south africa           1.083333                   0.92049   \n",
       "44         qatar           1.570000                   1.69042   \n",
       "43        turkey           2.372500                   1.06098   \n",
       "42     guatemala           3.737500                   0.74553   \n",
       "41        panama           3.741667                   1.06353   \n",
       "40       armenia           3.773333                   0.76821   \n",
       "39        cyprus           4.132500                   1.20813   \n",
       "38        greece           4.671667                   1.15406   \n",
       "37        israel           5.492500                   1.22857   \n",
       "36        mexico           5.547500                   1.02054   \n",
       "\n",
       "    Psychiatrists (per 100,000)  Ratio Psy/Sui  \n",
       "45                         0.27       0.249231  \n",
       "44                         1.66       1.057325  \n",
       "43                         2.13       0.897787  \n",
       "42                         0.59       0.157860  \n",
       "41                         3.99       1.066370  \n",
       "40                         4.04       1.070671  \n",
       "39                         6.82       1.650333  \n",
       "38                        12.88       2.757046  \n",
       "37                         8.24       1.500228  \n",
       "36                         1.57       0.283010  "
      ]
     },
     "execution_count": 63,
     "metadata": {},
     "output_type": "execute_result"
    }
   ],
   "source": [
    "bottm10Sui[['Country', 'suicides/100k pop','Economy (GDP per Capita)', 'Psychiatrists (per 100,000)','Ratio Psy/Sui']]"
   ]
  },
  {
   "cell_type": "markdown",
   "metadata": {},
   "source": [
    "## Summary and Analysis\n",
    "From the above data and graphs, we can deduce there is no relationship between happiness and suicide rates. Moreover, the level of economy (GDP) has a slight positive correlation with the suicides rate.\n",
    "\n",
    "Let's focus on South Korea and Greece in the data. Although these two countries have a similar level of Economy (Korea = 1.24, Greece = 1.15), the suicides rate is remarkably different. Greece has a lower suicide rate than Korea even they have a lower happiness score. Furthermore, Greece has the highest level of psychiatrists working in the mental health sector (per 100,000) among the bottom ten suicide rate countries.\n",
    "\n",
    "Although the majority of people who have depression do not die by suicide, having major depression does increase suicide risk compared to people without depression. Psychiatrists in many countries are researching and working to treat and prevent. Also, meeting with them is the most direct and primary curing way for depression. \n",
    "\n",
    "There might be many causes of people choose suicides though, I will focus on conducting a hypothesis test to examine whether the number of psychiatrists in the country actually could reduce the suicide rate.\n",
    "\n",
    "### Hypothesis: the frequency of meeting with psychiatrists does not affect to the suicidal ideation of depression patients.\n",
    "\n",
    "**Sample**: 1000 adults (age 19-65) will be randomly selected from the total population with depression patients. All patients consent to anonymous data collection for the purpose of research.\n",
    "\n",
    "**Control**: Patients will meet less frequently meet with psychiatrists (once a month).\n",
    "\n",
    "**Treatment**: Patients will meet more frequently (once a week) with psychiatrists than the control group.\n",
    "\n",
    "### Rollout & Evaluation Plan\n",
    "\n",
    "**Period**: The first year since when patients got a diagnosis of depression.\n",
    "\n",
    "**Data Collection Approach**: Patients would make a report after one year from diagnosis of depression. The report paper includes questionnaires about suicidal ideation.\n",
    "\n",
    "**Metrics**: Index of suicidal ideation per 1000 population, Frequency of meeting with psychiatrists.\n",
    "\n",
    "**Evaluation Criteria**: If the index of suicidal ideation of patients who frequently meet with doctors is at least 10% less than the patients infrequently meet with doctors, the null hypothesis can be rejected.\n",
    "\n"
   ]
  },
  {
   "cell_type": "code",
   "execution_count": null,
   "metadata": {},
   "outputs": [],
   "source": []
  }
 ],
 "metadata": {
  "kernelspec": {
   "display_name": "Python 3",
   "language": "python",
   "name": "python3"
  },
  "language_info": {
   "codemirror_mode": {
    "name": "ipython",
    "version": 3
   },
   "file_extension": ".py",
   "mimetype": "text/x-python",
   "name": "python",
   "nbconvert_exporter": "python",
   "pygments_lexer": "ipython3",
   "version": "3.7.1"
  }
 },
 "nbformat": 4,
 "nbformat_minor": 2
}
