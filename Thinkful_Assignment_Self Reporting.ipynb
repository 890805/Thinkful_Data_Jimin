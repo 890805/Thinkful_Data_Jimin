{
 "cells": [
  {
   "cell_type": "markdown",
   "metadata": {},
   "source": [
    "# DRILL: When to use surveys\n",
    "\n",
    "State whether a survey would be the best option for answering each of the following questions.\n",
    "\n",
    "1. Popularity of various Uber drivers.\n",
    "    - we can easily take the rating information from database.\n",
    "\n",
    "2. A grocery store wants to know how much people like strawberry, chocolate, and vanilla ice cream.\n",
    "    - we can easily compare the sales amount from company.\n",
    "\n",
    "3. Trojan wants to know whether their condoms are more popular among straight people or gay people. \n",
    "    - we can do surveys for it, but we should consider customor's privacy and tendency.\n",
    "4. Recently, rental rates for HappyCars have increased by 30%, which is quite unusual. You want to find out why this is happening and how to keep the increase going.\n",
    "    - we can use surveys in this situation, but we can consider other issues such as economic situations.\n",
    "5. Assessing the success rate of a new advertising campaign. Measuring the effect of nurse/patient ratio on patient recovery rates in hospital wards.\n",
    "    - we can use surveys in this situation."
   ]
  },
  {
   "cell_type": "code",
   "execution_count": null,
   "metadata": {},
   "outputs": [],
   "source": []
  }
 ],
 "metadata": {
  "kernelspec": {
   "display_name": "Python 3",
   "language": "python",
   "name": "python3"
  },
  "language_info": {
   "codemirror_mode": {
    "name": "ipython",
    "version": 3
   },
   "file_extension": ".py",
   "mimetype": "text/x-python",
   "name": "python",
   "nbconvert_exporter": "python",
   "pygments_lexer": "ipython3",
   "version": "3.7.1"
  }
 },
 "nbformat": 4,
 "nbformat_minor": 2
}
