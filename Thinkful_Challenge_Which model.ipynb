{
 "cells": [
  {
   "cell_type": "markdown",
   "metadata": {},
   "source": [
    "# Challenge: Which model?\n",
    "You now have a fairly substantial starting toolbox of supervised learning methods that you can use to tackle a host of exciting problems. To make sure all of these ideas are organized in your mind, please go through the list of problems below. For each, identify which supervised learning method(s) would be best for addressing that particular problem. Explain your reasoning and discuss your answers with your mentor.\n",
    "\n",
    "1. Predict the running times of prospective Olympic sprinters using data from the last 20 Olympics.\n",
    "\n",
    "I would like to use OLS regression or KNN regression. I will examine the relationship between sprinter's physical condition (weight, height, muscle mass, etc) and their record.\n",
    "\n",
    "2. You have more features (columns) than rows in your dataset.\n",
    "\n",
    "I would like to use Lasso Regression because this model takes L1 regularization which limits the size of coefficients. Through this model, some coefficients can become zero and be excluded. Therefore we can understand which features are important.\n",
    "\n",
    "3. Identify the most important characteristic predicting likelihood of being jailed before age 20.\n",
    "\n",
    "I would like to use Naive Bayes. This model considers the probabilistic relationship between variables.\n",
    "\n",
    "4. Implement a filter to “highlight” emails that might be important to the recipient\n",
    "\n",
    "I will model Naive Bayes filter using keywords related with highlight emails.\n",
    "\n",
    "5. You have 1000+ features.\n",
    "I would like to do PCA to reduce the dimensionality of the feature set before modeling.\n",
    "\n",
    "6. Predict whether someone who adds items to their cart on a website will purchase the items.\n",
    "\n",
    "I would like to use a Decision tree or Random forest Model with the record whether the customer's purchase item list.\n",
    "\n",
    "7. Your dataset dimensions are 982400 x 500\n",
    "\n",
    "I would like to use Lasso Regression because this model takes L1 regularization which limits the size of coefficients. Through this model, some coefficients can become zero and be excluded. Therefore we can understand which features are important.\n",
    "\n",
    "8. Identify faces in an image.\n",
    "\n",
    "I would use a KNN model with taking characteristics matrix from the image.\n",
    "\n",
    "9. Predict which of three flavors of ice cream will be most popular with boys vs girls.\n",
    "\n",
    "I would like to use Naive Bayes.\n"
   ]
  },
  {
   "cell_type": "code",
   "execution_count": null,
   "metadata": {},
   "outputs": [],
   "source": []
  }
 ],
 "metadata": {
  "kernelspec": {
   "display_name": "Python 3",
   "language": "python",
   "name": "python3"
  },
  "language_info": {
   "codemirror_mode": {
    "name": "ipython",
    "version": 3
   },
   "file_extension": ".py",
   "mimetype": "text/x-python",
   "name": "python",
   "nbconvert_exporter": "python",
   "pygments_lexer": "ipython3",
   "version": "3.7.1"
  }
 },
 "nbformat": 4,
 "nbformat_minor": 2
}
